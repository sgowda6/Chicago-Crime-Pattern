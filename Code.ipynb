{
  "nbformat": 4,
  "nbformat_minor": 0,
  "metadata": {
    "kernelspec": {
      "display_name": "Python 3",
      "language": "python",
      "name": "python3"
    },
    "language_info": {
      "codemirror_mode": {
        "name": "ipython",
        "version": 3
      },
      "file_extension": ".py",
      "mimetype": "text/x-python",
      "name": "python",
      "nbconvert_exporter": "python",
      "pygments_lexer": "ipython3",
      "version": "3.8.3"
    },
    "colab": {
      "name": "IDS561_final.ipynb",
      "provenance": [],
      "collapsed_sections": [],
      "include_colab_link": true
    }
  },
  "cells": [
    {
      "cell_type": "markdown",
      "metadata": {
        "id": "view-in-github",
        "colab_type": "text"
      },
      "source": [
        "<a href=\"https://colab.research.google.com/github/sgowda6/Chicago-Crime-Pattern/blob/main/IDS561_final.ipynb\" target=\"_parent\"><img src=\"https://colab.research.google.com/assets/colab-badge.svg\" alt=\"Open In Colab\"/></a>"
      ]
    },
    {
      "cell_type": "code",
      "metadata": {
        "id": "DAwq7oUf3eQq"
      },
      "source": [
        "from google.colab import drive\n",
        "drive.mount('/content/drive')\n",
        "!apt-get install openjdk-8-jdk-headless -qq > /dev/null\n",
        "!wget -q http://apache.mirrors.pair.com/spark/spark-3.0.1/spark-3.0.1-bin-hadoop2.7.tgz\n",
        "\n",
        "!tar -xvf spark-3.0.1-bin-hadoop2.7.tgz\n",
        "!pip install -q findspark\n",
        "\n",
        "import os\n",
        "os.environ[\"JAVA_HOME\"] = \"/usr/lib/jvm/java-8-openjdk-amd64\"\n",
        "os.environ[\"SPARK_HOME\"] = \"/content/spark-3.0.1-bin-hadoop2.7\""
      ],
      "execution_count": null,
      "outputs": []
    },
    {
      "cell_type": "code",
      "metadata": {
        "id": "4MXARMzb3P61"
      },
      "source": [
        "#Create spark session\n",
        "\n",
        "import findspark\n",
        "findspark.init()\n",
        "from pyspark.sql import SparkSession\n",
        "spark = SparkSession.builder.master(\"local[*]\").getOrCreate()\n",
        "\n",
        "#import libraries\n",
        "import pandas as pd\n",
        "import re\n",
        "from pyspark import SparkContext\n",
        "import datetime\n",
        "from pyspark.sql.functions import *\n",
        "from pyspark.sql.types import IntegerType\n",
        "from pyspark import SparkContext\n",
        "from pyspark.sql import SparkSession, functions as F\n",
        "from pyspark.sql.types import ArrayType, StructField, StructType, StringType, IntegerType"
      ],
      "execution_count": null,
      "outputs": []
    },
    {
      "cell_type": "code",
      "metadata": {
        "id": "ZT4NnsPP3P66"
      },
      "source": [
        "#read CSV into a DF\n",
        "df = spark.read.format('csv').options(header='true').load('Crimes_-_2013_to_Present.csv')"
      ],
      "execution_count": null,
      "outputs": []
    },
    {
      "cell_type": "code",
      "metadata": {
        "scrolled": true,
        "colab": {
          "base_uri": "https://localhost:8080/"
        },
        "id": "OBb1jNfh3P66",
        "outputId": "244526e0-8181-4b43-f412-3ba59bbba9f5"
      },
      "source": [
        "#display df\n",
        "\n",
        "df.show()\n",
        "df.count()"
      ],
      "execution_count": null,
      "outputs": [
        {
          "output_type": "stream",
          "text": [
            "+--------+-----------+--------------------+--------------------+----+--------------------+--------------------+--------------------+------+--------+----+--------+----+--------------+--------+------------+------------+----+----------------+--------+---------+--------+\n",
            "|      ID|Case_Number|                Date|               Block|IUCR|        Primary_Type|         Description|Location_Description|Arrest|Domestic|Beat|District|Ward|Community_Area|FBI_Code|X Coordinate|Y Coordinate|Year|      Updated On|Latitude|Longitude|Location|\n",
            "+--------+-----------+--------------------+--------------------+----+--------------------+--------------------+--------------------+------+--------+----+--------+----+--------------+--------+------------+------------+----+----------------+--------+---------+--------+\n",
            "|12187137|   JD392006|01/01/2013 12:00:...|093XX S MANISTEE AVE|1585|         SEX OFFENSE|               OTHER|           RESIDENCE| FALSE|    TRUE| 423|       4|   7|            48|      17|        null|        null|2013|10/22/2020 15:48|    null|     null|    null|\n",
            "|12195649|   JD402083|01/01/2013 12:00:...|037XX N LAKE SHOR...|1154|  DECEPTIVE PRACTICE|FINANCIAL IDENTIT...|     OTHER (SPECIFY)| FALSE|   FALSE|1925|      19|  46|             6|      11|        null|        null|2013|10/17/2020 15:52|    null|     null|    null|\n",
            "|12169090|   JD371167|01/01/2013 12:00:...|024XX N SPRINGFIE...|1156|  DECEPTIVE PRACTICE|ATTEMPT - FINANCI...|           APARTMENT| FALSE|   FALSE|2524|      25|  31|            22|      11|        null|        null|2013| 9/19/2020 15:46|    null|     null|    null|\n",
            "|12145381|   JD343500|01/01/2013 12:00:...|     0000X W 75TH ST|1153|  DECEPTIVE PRACTICE|FINANCIAL IDENTIT...|           RESIDENCE| FALSE|   FALSE| 623|       6|   6|            69|      11|        null|        null|2013| 8/25/2020 15:53|    null|     null|    null|\n",
            "|12027213|   JD205620|01/01/2013 12:00:...|  021XX N KARLOV AVE|1562|         SEX OFFENSE|AGGRAVATED CRIMIN...|           RESIDENCE| FALSE|   FALSE|2525|      25|  26|            20|      17|        null|        null|2013| 4/10/2020 15:47|    null|     null|    null|\n",
            "|12026394|   JD204947|01/01/2013 12:00:...|028XX W LEXINGTON ST|1153|  DECEPTIVE PRACTICE|FINANCIAL IDENTIT...|           RESIDENCE| FALSE|   FALSE|1135|      11|  28|            27|      11|        null|        null|2013|  4/9/2020 15:47|    null|     null|    null|\n",
            "|11607783|   JC166670|01/01/2013 12:00:...|011XX S INDEPENDE...| 266| CRIM SEXUAL ASSAULT|           PREDATORY|           APARTMENT|  TRUE|   FALSE|1133|      11|  24|            29|       2|        null|        null|2013| 11/9/2019 15:52|    null|     null|    null|\n",
            "|11641102|   JC207498|01/01/2013 12:00:...|     038XX W 61ST ST|1752|OFFENSE INVOLVING...|AGG CRIM SEX ABUS...|           RESIDENCE| FALSE|    TRUE| 823|       8|  23|            65|      17|        null|        null|2013| 7/26/2019 16:01|    null|     null|    null|\n",
            "|11481379|   JB482010|01/01/2013 12:00:...|024XX W ROSEMONT AVE|1752|OFFENSE INVOLVING...|AGG CRIM SEX ABUS...|           APARTMENT| FALSE|    TRUE|2413|      24|  50|             2|      17|        null|        null|2013| 7/21/2019 16:03|    null|     null|    null|\n",
            "|11240618|   JB161276|01/01/2013 12:00:...|     038XX W 61ST PL|1752|OFFENSE INVOLVING...|AGG CRIM SEX ABUS...|           RESIDENCE|  TRUE|   FALSE| 823|       8|  13|            65|      20|        null|        null|2013| 5/28/2018 15:46|    null|     null|    null|\n",
            "|10980293|   JA305264|01/01/2013 12:00:...|     006XX E 69TH ST|1153|  DECEPTIVE PRACTICE|FINANCIAL IDENTIT...|           RESIDENCE| FALSE|   FALSE| 321|       3|   6|            42|      11|        null|        null|2013| 6/14/2017 15:55|    null|     null|    null|\n",
            "|10368536|   HZ104554|01/01/2013 12:00:...|   094XX S LAFLIN ST|1753|OFFENSE INVOLVING...|SEX ASSLT OF CHIL...|           RESIDENCE| FALSE|   FALSE|2221|      22|  21|            73|       2|        null|        null|2013|  1/7/2016 16:14|    null|     null|    null|\n",
            "|10519887|   HZ261880|01/01/2013 12:00:...|126XX S PRINCETON...|1562|         SEX OFFENSE|AGG CRIMINAL SEXU...|           RESIDENCE| FALSE|   FALSE| 523|       5|   9|            53|      17|        null|        null|2013| 5/13/2016 15:51|    null|     null|    null|\n",
            "|10622388|   HZ375400|01/01/2013 12:00:...|036XX W DOUGLAS BLVD|1153|  DECEPTIVE PRACTICE|FINANCIAL IDENTIT...|           RESIDENCE| FALSE|   FALSE|1011|      10|  24|            29|      11|        null|        null|2013|  8/3/2016 15:52|    null|     null|    null|\n",
            "|10843424|   JA146623|01/01/2013 12:00:...|057XX S MARYLAND AVE|1754|OFFENSE INVOLVING...|AGG SEX ASSLT OF ...|HOSPITAL BUILDING...| FALSE|    TRUE| 235|       2|   5|            41|       2|        null|        null|2013|  2/9/2017 15:51|    null|     null|    null|\n",
            "|10875371|   JA183427|01/01/2013 12:00:...|   067XX S EVANS AVE|1153|  DECEPTIVE PRACTICE|FINANCIAL IDENTIT...|           RESIDENCE| FALSE|   FALSE| 321|       3|  20|            42|      11|        null|        null|2013| 3/12/2017 15:48|    null|     null|    null|\n",
            "|11312804|   JB259363|01/01/2013 12:00:...|   061XX S THROOP ST|1330|   CRIMINAL TRESPASS|             TO LAND|               OTHER| FALSE|   FALSE| 713|       7|  16|            67|      26|        null|        null|2013| 5/12/2018 15:56|    null|     null|    null|\n",
            "|11356451|   JB318379|01/01/2013 12:00:...|     082XX S WOOD ST|1156|  DECEPTIVE PRACTICE|ATTEMPT - FINANCI...|           RESIDENCE| FALSE|   FALSE| 614|       6|  18|            71|      11|        null|        null|2013| 6/23/2018 15:54|    null|     null|    null|\n",
            "|11369099|   JB275912|01/01/2013 12:00:...|070XX S CAMPBELL AVE|1752|OFFENSE INVOLVING...|AGG CRIM SEX ABUS...|           RESIDENCE| FALSE|    TRUE| 832|       8|  17|            66|      20|        null|        null|2013|12/13/2018 16:09|    null|     null|    null|\n",
            "|11401022|   JB376637|01/01/2013 12:00:...|     026XX W 59TH ST|1751|OFFENSE INVOLVING...|CRIM SEX ABUSE BY...|           RESIDENCE| FALSE|    TRUE| 824|       8|  16|            63|      20|        null|        null|2013|  8/3/2018 16:16|    null|     null|    null|\n",
            "+--------+-----------+--------------------+--------------------+----+--------------------+--------------------+--------------------+------+--------+----+--------+----+--------------+--------+------------+------------+----+----------------+--------+---------+--------+\n",
            "only showing top 20 rows\n",
            "\n"
          ],
          "name": "stdout"
        },
        {
          "output_type": "execute_result",
          "data": {
            "text/plain": [
              "1048575"
            ]
          },
          "metadata": {
            "tags": []
          },
          "execution_count": 342
        }
      ]
    },
    {
      "cell_type": "code",
      "metadata": {
        "id": "emzTW7f_3P67"
      },
      "source": [
        "#drop all NA values\n",
        "\n",
        "df = df.dropna()"
      ],
      "execution_count": null,
      "outputs": []
    },
    {
      "cell_type": "code",
      "metadata": {
        "colab": {
          "base_uri": "https://localhost:8080/"
        },
        "id": "h4bEAQgk3P67",
        "outputId": "4517097a-b151-460d-caca-fecfbfd79c4f"
      },
      "source": [
        "#check count of data we're dealing with\n",
        "\n",
        "df.count()"
      ],
      "execution_count": null,
      "outputs": [
        {
          "output_type": "execute_result",
          "data": {
            "text/plain": [
              "1036661"
            ]
          },
          "metadata": {
            "tags": []
          },
          "execution_count": 344
        }
      ]
    },
    {
      "cell_type": "code",
      "metadata": {
        "id": "nKwf0Zik3P68"
      },
      "source": [
        "#df will be read again and again, so cache it\n",
        "\n",
        "df = df.cache()"
      ],
      "execution_count": null,
      "outputs": []
    },
    {
      "cell_type": "code",
      "metadata": {
        "colab": {
          "base_uri": "https://localhost:8080/"
        },
        "id": "ye_mu3Zs3P68",
        "outputId": "120797bb-63a6-4bdf-8a63-745435a96ca7"
      },
      "source": [
        "#check schema\n",
        "\n",
        "df.printSchema()"
      ],
      "execution_count": null,
      "outputs": [
        {
          "output_type": "stream",
          "text": [
            "root\n",
            " |-- ID: string (nullable = true)\n",
            " |-- Case_Number: string (nullable = true)\n",
            " |-- Date: string (nullable = true)\n",
            " |-- Block: string (nullable = true)\n",
            " |-- IUCR: string (nullable = true)\n",
            " |-- Primary_Type: string (nullable = true)\n",
            " |-- Description: string (nullable = true)\n",
            " |-- Location_Description: string (nullable = true)\n",
            " |-- Arrest: string (nullable = true)\n",
            " |-- Domestic: string (nullable = true)\n",
            " |-- Beat: string (nullable = true)\n",
            " |-- District: string (nullable = true)\n",
            " |-- Ward: string (nullable = true)\n",
            " |-- Community_Area: string (nullable = true)\n",
            " |-- FBI_Code: string (nullable = true)\n",
            " |-- X Coordinate: string (nullable = true)\n",
            " |-- Y Coordinate: string (nullable = true)\n",
            " |-- Year: string (nullable = true)\n",
            " |-- Updated On: string (nullable = true)\n",
            " |-- Latitude: string (nullable = true)\n",
            " |-- Longitude: string (nullable = true)\n",
            " |-- Location: string (nullable = true)\n",
            "\n"
          ],
          "name": "stdout"
        }
      ]
    },
    {
      "cell_type": "code",
      "metadata": {
        "id": "Yl2kK2mV3P69"
      },
      "source": [
        "#drop columns that we do not require for our analysis\n",
        "\n",
        "df = df.drop(\"X Coordinate\",\"Y Coordinate\",\"Latitude\",\"Longitude\",\"Location\",\"Updated On\")"
      ],
      "execution_count": null,
      "outputs": []
    },
    {
      "cell_type": "markdown",
      "metadata": {
        "id": "8CksRhYJTahV"
      },
      "source": [
        "In our crimes dataframe, the column 'Community Area' is an indicator of which community area of Chicago a crime occurs in. We have manually created a data frame by collecting the area and matching it with the Community Area code from the Population and Poverty Data by Chicago Community Area (December 2017).  \n",
        "\n",
        "http://www.actforchildren.org/wp-content/uploads/2018/01/Census-Data-by-Chicago-Community-Area-2017.pdf"
      ]
    },
    {
      "cell_type": "code",
      "metadata": {
        "id": "yL-3depn3P69"
      },
      "source": [
        "#manually insert community area codes and area names into Community_Area list\n",
        "\n",
        "from pyspark.sql import Row\n",
        "from pyspark.sql.types import StructType, StructField, IntegerType, DoubleType, StringType\n",
        "Community_Area = [ Row(1, \"Rogers Park\",\"Far North side\"),Row(2, \"West Ridge\",\"Far North side\"),Row(3, \"Uptown\",\"Far North side\"),Row(4, \"Lincoln Square\",\"Far North side\"),\n",
        "               Row(5, \"North Center\",\"North side\"),Row(6, \"Lake View\",\"North side\"),Row(7, \"Lincoln Park\",\"North side\"),Row(8, \"Near North Side\",\"Central\"),\n",
        "               Row(9, \"Edison Park\",\"Far North side\"),Row(10, \"Norwood Park\",\"Far North side\"),Row(11, \"Jefferson Park\",\"Far North side\"),Row(12, \"Forest Glen\",\"Far North side\"),\n",
        "               Row(13, \"North Park\",\"Far North side\"),Row(14, \"Albany Park\",\"Far North side\"),Row(15, \"Portage Park\",\"Northwest side\"),Row(16, \"Irving Park\",\"Northwest side\"),\n",
        "               Row(17, \"Dunning\",\"Northwest side\"),Row(18, \"Montclare\",\"Northwest side\"),Row(19, \"Belmont Cragin\",\"Northwest side\"),Row(20, \"Hermosa\",\"Northwest side\"),\n",
        "               Row(21, \"Avondale\",\"North side\"),Row(22, \"Logan Square\",\"North side\"),Row(23, \"Humboldt Park\", \"West side\"),Row(24, \"West Town\",\"West side\"),\n",
        "               Row(25, \"Austin\",\"West side\"),Row(26, \"West Garfield Park\",\"West side\"),Row(27, \"East Garfield Park\",\"West side\"),Row(28, \"Near West Side\",\"West side\"),\n",
        "               Row(29, \"North Lawndale\",\"West side\"),Row(30, \"South Lawndale\",\"West side\"),Row(31, \"Lower West Side\",\"West side\"),Row(32, \"Loop\",\"Central\"),\n",
        "               Row(33, \"Near South Side\",\"Central\"),Row(34, \"Armour Square\",\"South side\"),Row(35, \"Douglas\",\"South side\"),Row(36, \"Oakland\",\"South side\"),\n",
        "               Row(37, \"Fuller Park\",\"South side\"),Row(38, \"Grand Boulevard\",\"South side\"),Row(39, \"Kenwood\",\"South side\"),Row(40, \"Washington Park\",\"South side\"),\n",
        "               Row(41, \"Hyde Park\",\"South side\"),Row(42, \"Woodlawn\",\"South side\"),Row(43, \"South Shore\",\"South side\"),Row(44, \"Chatham\",\"Far Southeast side\"),\n",
        "               Row(45, \"Avalon Park\",\"Far Southeast side\"),Row(46, \"South Chicago\",\"Far Southeast side\"),Row(47, \"Burnside\",\"Far Southeast side\"),Row(48, \"Calumet Heights\",\"Far Southeast side\"),\n",
        "               Row(49, \"Roseland\",\"Far Southeast side\"),Row(50, \"Pullman\",\"Far Southeast side\"),Row(51, \"South Deering\",\"Far Southeast side\"),Row(52, \"East Side\",\"Far Southeast side\"),\n",
        "               Row(53, \"West Pullman\",\"Far Southeast side\"),Row(54, \"Riverdale\",\"Far Southeast side\"),Row(55, \"Hegewisch\",\"Far Southeast side\"),Row(56, \"Garfield Ridge\",\"Southwest side\"),\n",
        "               Row(57, \"Archer Heights\",\"Southwest side\"),Row(58, \"Brighton Park\",\"Southwest side\"),Row(59, \"McKinley Park\",\"Southwest side\"),Row(60, \"Bridgeport\",\"South side\"),\n",
        "               Row(61, \"New City\",\"Southwest side\"),Row(62, \"West Elsdon\",\"Southwest side\"),Row(63, \"Gage Park\",\"Southwest side\"),Row(64, \"Clearing\",\"Southwest side\"),\n",
        "               Row(65, \"West Lawn\",\"Southwest side\"),Row(66, \"Chicago Lawn\",\"Southwest side\"),Row(67, \"West Englewood\",\"Southwest side\"),Row(68, \"Englewood\",\"Southwest side\"),\n",
        "               Row(69, \"Greater Grand Crossing\",\"South side\"),Row(70, \"Ashburn\",\"Far Southwest side\"),Row(71, \"Auburn Gresham\",\"Far Southwest side\"),Row(72, \"Beverly\",\"Far Southwest side\"),\n",
        "               Row(73, \"Washington Heights\",\"Far Southwest side\"),Row(74, \"Mount Greenwood\",\"Far Southwest side\"),Row(75, \"Morgan Park\",\"Far Southwest side\"),Row(76, \"O'Hare\",\"Far North side\"),\n",
        "               Row(77, \"Edgewater\",\"Far North side\")]\n"
      ],
      "execution_count": null,
      "outputs": []
    },
    {
      "cell_type": "code",
      "metadata": {
        "colab": {
          "base_uri": "https://localhost:8080/"
        },
        "id": "BspXkbHm3P6-",
        "outputId": "a974fa68-3ade-49b8-eb60-a6ce47047f09"
      },
      "source": [
        "#Define schema for the above list and store it into a dataframe\n",
        "\n",
        "community_schema = StructType([ StructField(\"Community_Area\", IntegerType(), False),\n",
        "                                StructField(\"Area_name\", StringType(), True),\n",
        "                          StructField(\"Area_side\", StringType(), True)])\n",
        "#create spark dataframe\n",
        "communityDf = spark.createDataFrame(Community_Area, community_schema)\n",
        "\n",
        "#view\n",
        "communityDf.show(truncate=False)"
      ],
      "execution_count": null,
      "outputs": [
        {
          "output_type": "stream",
          "text": [
            "+--------------+---------------+--------------+\n",
            "|Community_Area|Area_name      |Area_side     |\n",
            "+--------------+---------------+--------------+\n",
            "|1             |Rogers Park    |Far North side|\n",
            "|2             |West Ridge     |Far North side|\n",
            "|3             |Uptown         |Far North side|\n",
            "|4             |Lincoln Square |Far North side|\n",
            "|5             |North Center   |North side    |\n",
            "|6             |Lake View      |North side    |\n",
            "|7             |Lincoln Park   |North side    |\n",
            "|8             |Near North Side|Central       |\n",
            "|9             |Edison Park    |Far North side|\n",
            "|10            |Norwood Park   |Far North side|\n",
            "|11            |Jefferson Park |Far North side|\n",
            "|12            |Forest Glen    |Far North side|\n",
            "|13            |North Park     |Far North side|\n",
            "|14            |Albany Park    |Far North side|\n",
            "|15            |Portage Park   |Northwest side|\n",
            "|16            |Irving Park    |Northwest side|\n",
            "|17            |Dunning        |Northwest side|\n",
            "|18            |Montclare      |Northwest side|\n",
            "|19            |Belmont Cragin |Northwest side|\n",
            "|20            |Hermosa        |Northwest side|\n",
            "+--------------+---------------+--------------+\n",
            "only showing top 20 rows\n",
            "\n"
          ],
          "name": "stdout"
        }
      ]
    },
    {
      "cell_type": "code",
      "metadata": {
        "id": "vFVqnhjb3P6-"
      },
      "source": [
        "#Join Community_Area dataframe with original dataframe df\n",
        "df = df.join(communityDf,\"Community_Area\",'inner')"
      ],
      "execution_count": null,
      "outputs": []
    },
    {
      "cell_type": "code",
      "metadata": {
        "colab": {
          "base_uri": "https://localhost:8080/"
        },
        "id": "4N04vluu3P6_",
        "outputId": "2e51724a-adc7-4da3-b73f-f101eaca5ef9"
      },
      "source": [
        "#Check\n",
        "df"
      ],
      "execution_count": null,
      "outputs": [
        {
          "output_type": "execute_result",
          "data": {
            "text/plain": [
              "DataFrame[Community_Area: string, ID: string, Case_Number: string, Date: string, Block: string, IUCR: string, Primary_Type: string, Description: string, Location_Description: string, Arrest: string, Domestic: string, Beat: string, District: string, Ward: string, FBI_Code: string, Year: string, Area_name: string, Area_side: string]"
            ]
          },
          "metadata": {
            "tags": []
          },
          "execution_count": 351
        }
      ]
    },
    {
      "cell_type": "markdown",
      "metadata": {
        "id": "FMk7hKRqUuWi"
      },
      "source": [
        "District variables in the crime data frame represent the number of the police district where the incident took place.\n",
        "Adding the name of the police district would provide additional context required for review. There are 22 police districts, each of which has a police name and was accessed from the Data Portal of the City of Chicago.\n",
        "https://www.chicago.gov/city/en/depts/cpd/dataset/police_stations.html"
      ]
    },
    {
      "cell_type": "code",
      "metadata": {
        "id": "3QX9mu8w3P6_"
      },
      "source": [
        "#read the police station data into a spark dataframe\n",
        "\n",
        "police_station = spark.read \\\n",
        "                 .format(\"csv\") \\\n",
        "                 .option(\"mode\",\"FAILFAST\") \\\n",
        "                 .option(\"inferSchema\", \"true\") \\\n",
        "                 .option(\"header\", \"true\") \\\n",
        "                 .load(\"Police_Stations.csv\")"
      ],
      "execution_count": null,
      "outputs": []
    },
    {
      "cell_type": "code",
      "metadata": {
        "id": "NhBN3m0o3P7A"
      },
      "source": [
        "#Join the police station df with df2\n",
        "df = df.join(police_station,\"District\",'inner')"
      ],
      "execution_count": null,
      "outputs": []
    },
    {
      "cell_type": "code",
      "metadata": {
        "colab": {
          "base_uri": "https://localhost:8080/"
        },
        "id": "j2YBu7GG3P7A",
        "outputId": "3694bdf1-fa81-4a04-af09-d4fa98b1d5d8"
      },
      "source": [
        "#check\n",
        "df"
      ],
      "execution_count": null,
      "outputs": [
        {
          "output_type": "execute_result",
          "data": {
            "text/plain": [
              "DataFrame[District: string, Community_Area: string, ID: string, Case_Number: string, Date: string, Block: string, IUCR: string, Primary_Type: string, Description: string, Location_Description: string, Arrest: string, Domestic: string, Beat: string, Ward: string, FBI_Code: string, Year: string, Area_name: string, Area_side: string, District_Name: string, Address: string, CITY: string, STATE: string, ZIP: int, WEBSITE: string, PHONE: string, FAX: string, TTY: string, X COORDINATE: double, Y COORDINATE: double, LATITUDE: double, LONGITUDE: double, LOCATION: string]"
            ]
          },
          "metadata": {
            "tags": []
          },
          "execution_count": 354
        }
      ]
    },
    {
      "cell_type": "code",
      "metadata": {
        "id": "8lSXVGg_3P7A"
      },
      "source": [
        "#drop unnecessary columns from df2\n",
        "df = df.drop(\"CITY\",\"STATE\",\"ZIP\",\"WEBSITE\",\"PHONE\",\"FAX\",\"TTY\",\"X COORDINATE\",\"Y COORDINATE\",\"LATITUDE\",\"LONGITUDE\",\"LOCATION\")"
      ],
      "execution_count": null,
      "outputs": []
    },
    {
      "cell_type": "code",
      "metadata": {
        "colab": {
          "base_uri": "https://localhost:8080/"
        },
        "id": "_0Zs6Qg23P7B",
        "outputId": "ffe88422-aa6b-42cb-845e-df83b701a79c"
      },
      "source": [
        "#check\n",
        "df"
      ],
      "execution_count": null,
      "outputs": [
        {
          "output_type": "execute_result",
          "data": {
            "text/plain": [
              "DataFrame[District: string, Community_Area: string, ID: string, Case_Number: string, Date: string, Block: string, IUCR: string, Primary_Type: string, Description: string, Location_Description: string, Arrest: string, Domestic: string, Beat: string, Ward: string, FBI_Code: string, Year: string, Area_name: string, Area_side: string, District_Name: string, Address: string]"
            ]
          },
          "metadata": {
            "tags": []
          },
          "execution_count": 356
        }
      ]
    },
    {
      "cell_type": "markdown",
      "metadata": {
        "id": "z36wSvJDWSnu"
      },
      "source": [
        "**EXPLORATORY DATA ANALYSIS**"
      ]
    },
    {
      "cell_type": "markdown",
      "metadata": {
        "id": "eV9z90jqWf5R"
      },
      "source": [
        "**1. Visualize top ten crimes in Chicago**"
      ]
    },
    {
      "cell_type": "code",
      "metadata": {
        "id": "MvGN41H-3P7B"
      },
      "source": [
        "#Types of Crime in Chicago\n",
        "crime_types = df.groupBy('Primary_Type').count()"
      ],
      "execution_count": null,
      "outputs": []
    },
    {
      "cell_type": "code",
      "metadata": {
        "id": "7By-Sq2-3P7B"
      },
      "source": [
        "crime_type_counts = crime_types.orderBy('count', ascending=False)\n"
      ],
      "execution_count": null,
      "outputs": []
    },
    {
      "cell_type": "code",
      "metadata": {
        "id": "0TOASeTY3P7C",
        "colab": {
          "base_uri": "https://localhost:8080/"
        },
        "outputId": "e702583e-3eee-41ff-f6c2-6fe574408597"
      },
      "source": [
        "#view top most occured crime types by number\n",
        "\n",
        "crime_type_counts.show(truncate=False)\n"
      ],
      "execution_count": null,
      "outputs": [
        {
          "output_type": "stream",
          "text": [
            "+--------------------------------+------+\n",
            "|Primary_Type                    |count |\n",
            "+--------------------------------+------+\n",
            "|THEFT                           |234200|\n",
            "|BATTERY                         |190488|\n",
            "|CRIMINAL DAMAGE                 |110440|\n",
            "|NARCOTICS                       |95531 |\n",
            "|ASSAULT                         |66036 |\n",
            "|OTHER OFFENSE                   |65101 |\n",
            "|BURGLARY                        |55687 |\n",
            "|DECEPTIVE PRACTICE              |54822 |\n",
            "|MOTOR VEHICLE THEFT             |40513 |\n",
            "|ROBBERY                         |39690 |\n",
            "|CRIMINAL TRESPASS               |26796 |\n",
            "|WEAPONS VIOLATION               |12285 |\n",
            "|PUBLIC PEACE VIOLATION          |9667  |\n",
            "|OFFENSE INVOLVING CHILDREN      |8408  |\n",
            "|PROSTITUTION                    |5249  |\n",
            "|CRIM SEXUAL ASSAULT             |4854  |\n",
            "|INTERFERENCE WITH PUBLIC OFFICER|4672  |\n",
            "|SEX OFFENSE                     |3534  |\n",
            "|HOMICIDE                        |1919  |\n",
            "|ARSON                           |1605  |\n",
            "+--------------------------------+------+\n",
            "only showing top 20 rows\n",
            "\n"
          ],
          "name": "stdout"
        }
      ]
    },
    {
      "cell_type": "code",
      "metadata": {
        "id": "uF8M8x283P7C"
      },
      "source": [
        "#convert to pandas \n",
        "\n",
        "crime_type_counts.toPandas()"
      ],
      "execution_count": null,
      "outputs": []
    },
    {
      "cell_type": "code",
      "metadata": {
        "id": "FxUNF4U53P7C"
      },
      "source": [
        "#convert back to rdd\n",
        "\n",
        "counts = pd.DataFrame(crime_type_counts.rdd.map(lambda l: l.asDict()).collect())"
      ],
      "execution_count": null,
      "outputs": []
    },
    {
      "cell_type": "code",
      "metadata": {
        "id": "NzIAKsJv3P7C",
        "colab": {
          "base_uri": "https://localhost:8080/",
          "height": 343
        },
        "outputId": "41ed6970-90d2-4c73-8d0a-0a6886e9eafb"
      },
      "source": [
        "#store top ten crime records in x\n",
        "\n",
        "x=counts.head(10)\n",
        "x"
      ],
      "execution_count": null,
      "outputs": [
        {
          "output_type": "execute_result",
          "data": {
            "text/html": [
              "<div>\n",
              "<style scoped>\n",
              "    .dataframe tbody tr th:only-of-type {\n",
              "        vertical-align: middle;\n",
              "    }\n",
              "\n",
              "    .dataframe tbody tr th {\n",
              "        vertical-align: top;\n",
              "    }\n",
              "\n",
              "    .dataframe thead th {\n",
              "        text-align: right;\n",
              "    }\n",
              "</style>\n",
              "<table border=\"1\" class=\"dataframe\">\n",
              "  <thead>\n",
              "    <tr style=\"text-align: right;\">\n",
              "      <th></th>\n",
              "      <th>Primary_Type</th>\n",
              "      <th>count</th>\n",
              "    </tr>\n",
              "  </thead>\n",
              "  <tbody>\n",
              "    <tr>\n",
              "      <th>0</th>\n",
              "      <td>THEFT</td>\n",
              "      <td>234200</td>\n",
              "    </tr>\n",
              "    <tr>\n",
              "      <th>1</th>\n",
              "      <td>BATTERY</td>\n",
              "      <td>190488</td>\n",
              "    </tr>\n",
              "    <tr>\n",
              "      <th>2</th>\n",
              "      <td>CRIMINAL DAMAGE</td>\n",
              "      <td>110440</td>\n",
              "    </tr>\n",
              "    <tr>\n",
              "      <th>3</th>\n",
              "      <td>NARCOTICS</td>\n",
              "      <td>95531</td>\n",
              "    </tr>\n",
              "    <tr>\n",
              "      <th>4</th>\n",
              "      <td>ASSAULT</td>\n",
              "      <td>66036</td>\n",
              "    </tr>\n",
              "    <tr>\n",
              "      <th>5</th>\n",
              "      <td>OTHER OFFENSE</td>\n",
              "      <td>65101</td>\n",
              "    </tr>\n",
              "    <tr>\n",
              "      <th>6</th>\n",
              "      <td>BURGLARY</td>\n",
              "      <td>55687</td>\n",
              "    </tr>\n",
              "    <tr>\n",
              "      <th>7</th>\n",
              "      <td>DECEPTIVE PRACTICE</td>\n",
              "      <td>54822</td>\n",
              "    </tr>\n",
              "    <tr>\n",
              "      <th>8</th>\n",
              "      <td>MOTOR VEHICLE THEFT</td>\n",
              "      <td>40513</td>\n",
              "    </tr>\n",
              "    <tr>\n",
              "      <th>9</th>\n",
              "      <td>ROBBERY</td>\n",
              "      <td>39690</td>\n",
              "    </tr>\n",
              "  </tbody>\n",
              "</table>\n",
              "</div>"
            ],
            "text/plain": [
              "          Primary_Type   count\n",
              "0                THEFT  234200\n",
              "1              BATTERY  190488\n",
              "2      CRIMINAL DAMAGE  110440\n",
              "3            NARCOTICS   95531\n",
              "4              ASSAULT   66036\n",
              "5        OTHER OFFENSE   65101\n",
              "6             BURGLARY   55687\n",
              "7   DECEPTIVE PRACTICE   54822\n",
              "8  MOTOR VEHICLE THEFT   40513\n",
              "9              ROBBERY   39690"
            ]
          },
          "metadata": {
            "tags": []
          },
          "execution_count": 362
        }
      ]
    },
    {
      "cell_type": "code",
      "metadata": {
        "id": "44Xax6dc3P7D"
      },
      "source": [
        "#import libraries for plotting\n",
        "\n",
        "import seaborn as sns\n",
        "import matplotlib.pyplot as plt\n",
        "import datetime\n",
        "from pyspark.sql.functions import *"
      ],
      "execution_count": null,
      "outputs": []
    },
    {
      "cell_type": "code",
      "metadata": {
        "colab": {
          "base_uri": "https://localhost:8080/",
          "height": 454
        },
        "id": "5Pda_HJL3P7D",
        "outputId": "7e9e4302-9187-4ae3-ae4a-65a71d276298"
      },
      "source": [
        "# Visualizing top ten crime types by count \n",
        "\n",
        "plt.rcParams[\"figure.figsize\"] = [20, 8]\n",
        "\n",
        "sns.set(style=\"whitegrid\")\n",
        "\n",
        "type_graph = sns.barplot(x='count', y='Primary_Type', data=x)\n",
        "type_graph.set(ylabel=\"Type of crime\", xlabel=\"Number of crimes\")"
      ],
      "execution_count": null,
      "outputs": [
        {
          "output_type": "execute_result",
          "data": {
            "text/plain": [
              "[Text(0, 0.5, 'Type of crime'), Text(0.5, 0, 'Number of crimes')]"
            ]
          },
          "metadata": {
            "tags": []
          },
          "execution_count": 364
        },
        {
          "output_type": "display_data",
          "data": {
            "image/png": "[encoded data removed]",
            "text/plain": [
              "<Figure size 1440x576 with 1 Axes>"
            ]
          },
          "metadata": {
            "tags": []
          }
        }
      ]
    },
    {
      "cell_type": "markdown",
      "metadata": {
        "id": "7hOOPTG2Wuh0"
      },
      "source": [
        "**2. Visualize arrests over the years**"
      ]
    },
    {
      "cell_type": "code",
      "metadata": {
        "colab": {
          "base_uri": "https://localhost:8080/"
        },
        "id": "tcTsrQ8NUene",
        "outputId": "6864e000-e3c7-4d5e-cd4d-774ff633c4fb"
      },
      "source": [
        "# Arrests, year, count through the years\n",
        "arrest_type = df.groupBy(['Arrest', 'Year'])\\\n",
        "                     .count()\\\n",
        "                     .orderBy(['Year', 'count'], ascending=[True, False])\n",
        "print()\n",
        "arrest_type.show(3, truncate=False)"
      ],
      "execution_count": null,
      "outputs": [
        {
          "output_type": "stream",
          "text": [
            "\n",
            "+------+----+------+\n",
            "|Arrest|Year|count |\n",
            "+------+----+------+\n",
            "|FALSE |2013|219872|\n",
            "|TRUE  |2013|86431 |\n",
            "|FALSE |2014|194301|\n",
            "+------+----+------+\n",
            "only showing top 3 rows\n",
            "\n"
          ],
          "name": "stdout"
        }
      ]
    },
    {
      "cell_type": "code",
      "metadata": {
        "id": "9gxxvIn9VQEX"
      },
      "source": [
        "# A pandas data frame of above\n",
        "arrest_type_p = pd.DataFrame(arrest_type.rdd.map(lambda l: l.asDict()).collect())"
      ],
      "execution_count": null,
      "outputs": []
    },
    {
      "cell_type": "code",
      "metadata": {
        "id": "JusI6CR7OYOu"
      },
      "source": [
        "# Plot\n",
        "t = arrest_type_p['count'] - 20 \n",
        "s = arrest_type_p['Year']\n",
        "\n",
        "#store arrested records and non-arrested records seperately\n",
        "arrested = arrest_type_p[type_arrest_pddf['Arrest'] == 'TRUE']\n",
        "not_arrested = arrest_type_p[type_arrest_pddf['Arrest'] == 'FALSE']\n",
        "\n",
        "fig, ax = plt.subplots()\n",
        "ax.plot(arrested['Year'], arrested['count'], label='Arrested')\n",
        "ax.plot(not_arrested['Year'], not_arrested['count'], label='Not Arrested')\n",
        "\n",
        "ax.set(xlabel='Years', ylabel='Total records',\n",
        "       title='Arrests over the years')\n",
        "ax.grid(b=True, which='both', axis='y')\n",
        "ax.legend()"
      ],
      "execution_count": null,
      "outputs": []
    },
    {
      "cell_type": "markdown",
      "metadata": {
        "id": "Esa2-hMOXWwc"
      },
      "source": [
        "**3. Visualize number of crimes in each Location type (top 10)**"
      ]
    },
    {
      "cell_type": "code",
      "metadata": {
        "colab": {
          "base_uri": "https://localhost:8080/"
        },
        "id": "JzuIdnPyXhQK",
        "outputId": "d199ebe1-f8cf-45be-dffb-07f0fdedd3d0"
      },
      "source": [
        "df.select('Location_Description').distinct().count()"
      ],
      "execution_count": null,
      "outputs": [
        {
          "output_type": "execute_result",
          "data": {
            "text/plain": [
              "156"
            ]
          },
          "metadata": {
            "tags": []
          },
          "execution_count": 368
        }
      ]
    },
    {
      "cell_type": "code",
      "metadata": {
        "id": "8FLBQMjPX6BF"
      },
      "source": [
        "#grouping locations and displaying count (ASC order)\n",
        "\n",
        "Loc_desc = df.groupBy(['Location_Description']).count().orderBy('count', ascending=False)"
      ],
      "execution_count": null,
      "outputs": []
    },
    {
      "cell_type": "code",
      "metadata": {
        "id": "ZtI5XqYBY0y-"
      },
      "source": [
        "#conver to pandas\n",
        "\n",
        "LD = pd.DataFrame(Loc_desc.rdd.map(lambda l: l.asDict()).collect())"
      ],
      "execution_count": null,
      "outputs": []
    },
    {
      "cell_type": "code",
      "metadata": {
        "id": "1ECzlAccaOGt"
      },
      "source": [
        "#ake top 10 records\n",
        "\n",
        "LD = LD.head(10)"
      ],
      "execution_count": null,
      "outputs": []
    },
    {
      "cell_type": "code",
      "metadata": {
        "colab": {
          "base_uri": "https://localhost:8080/",
          "height": 454
        },
        "id": "SJ_14XFMYIUb",
        "outputId": "8739fa40-49b6-446f-96b7-9c744a323a20"
      },
      "source": [
        "# Plot\n",
        "\n",
        "plt.rcParams[\"figure.figsize\"] = [30, 10]\n",
        "\n",
        "sns.set(style=\"whitegrid\")\n",
        "\n",
        "type_graph = sns.barplot(x='Location_Description', y='count', data=LD)\n",
        "type_graph.set(ylabel=\"Count\", xlabel=\"Locations (Chicago)\",title='Number of crimes location wise')"
      ],
      "execution_count": null,
      "outputs": [
        {
          "output_type": "execute_result",
          "data": {
            "text/plain": [
              "[Text(0, 0.5, 'Count'),\n",
              " Text(0.5, 0, 'Locations (Chicago)'),\n",
              " Text(0.5, 1.0, 'Number of crimes location wise')]"
            ]
          },
          "metadata": {
            "tags": []
          },
          "execution_count": 372
        },
        {
          "output_type": "display_data",
          "data": {
            "image/png": "[encoded data removed]",
            "text/plain": [
              "<Figure size 2160x720 with 1 Axes>"
            ]
          },
          "metadata": {
            "tags": []
          }
        }
      ]
    },
    {
      "cell_type": "markdown",
      "metadata": {
        "id": "QqMbjMXye3lr"
      },
      "source": [
        "**4.Top 10 police stations (with District names) with domestic violence arrest rate**"
      ]
    },
    {
      "cell_type": "code",
      "metadata": {
        "colab": {
          "base_uri": "https://localhost:8080/"
        },
        "id": "69ztgenlfAvV",
        "outputId": "a27c18b1-2a46-4a1f-9c70-51845fb26b05"
      },
      "source": [
        "#total count of domestic crimes\n",
        "totCrimeDF = df.where(col(\"Domestic\")==True).count()\n",
        "\n",
        "\n",
        "print(\"Summary of the arrests which occurred for domestic violence for each Police Station\")\n",
        "df.where((col(\"Arrest\")==True) & ((col(\"Domestic\")==True)))\\\n",
        "           .select(\"District_Name\",\"arrest\",\"domestic\")\\\n",
        "           .groupBy(\"District_Name\")\\\n",
        "           .agg(count(\"District_Name\").alias(\"Domestic Violence Arrest Rate\"),\\\n",
        "                  (count(\"District_Name\")/totCrimeDF*100).alias(\"Rate\"))\\\n",
        "           .orderBy(col(\"Domestic Violence Arrest Rate\").desc())\\\n",
        "           .select(\"District_Name\",\"Domestic Violence Arrest Rate\",round(\"Rate\",2).alias(\"Ratio=Domestic Violence Cases/Reported Crimes\")).show(10)"
      ],
      "execution_count": null,
      "outputs": [
        {
          "output_type": "stream",
          "text": [
            "Summary of the arrests which occurred for domestic violence for each Police Station\n",
            "+--------------+-----------------------------+---------------------------------------------+\n",
            "| District_Name|Domestic Violence Arrest Rate|Ratio=Domestic Violence Cases/Reported Crimes|\n",
            "+--------------+-----------------------------+---------------------------------------------+\n",
            "|       Gresham|                         2572|                                         1.61|\n",
            "| South Chicago|                         2509|                                         1.57|\n",
            "| Grand Central|                         2424|                                         1.52|\n",
            "|     Englewood|                         2363|                                         1.48|\n",
            "|  Chicago Lawn|                         2171|                                         1.36|\n",
            "|Grand Crossing|                         2109|                                         1.32|\n",
            "|      Harrison|                         2079|                                          1.3|\n",
            "|       Calumet|                         2037|                                         1.28|\n",
            "|        Austin|                         1905|                                          1.2|\n",
            "|         Ogden|                         1892|                                         1.19|\n",
            "+--------------+-----------------------------+---------------------------------------------+\n",
            "only showing top 10 rows\n",
            "\n"
          ],
          "name": "stdout"
        }
      ]
    },
    {
      "cell_type": "markdown",
      "metadata": {
        "id": "95iv9Oo082sx"
      },
      "source": [
        "**Lets handle the Date column which is in String type**"
      ]
    },
    {
      "cell_type": "code",
      "metadata": {
        "id": "biMEmjscmRbB"
      },
      "source": [
        "#Convert to timestamp type\n",
        "df = df.withColumn('date_time', to_timestamp('Date', 'MM/dd/yyyy hh:mm:ss a'))\\\n",
        "       .withColumn('date_short', trunc('date_time', 'YYYY'))"
      ],
      "execution_count": null,
      "outputs": []
    },
    {
      "cell_type": "code",
      "metadata": {
        "colab": {
          "base_uri": "https://localhost:8080/"
        },
        "id": "t-kaScCYBee5",
        "outputId": "bf417b47-994a-4535-dced-e3f40ea6a255"
      },
      "source": [
        "#check\n",
        "df"
      ],
      "execution_count": null,
      "outputs": [
        {
          "output_type": "execute_result",
          "data": {
            "text/plain": [
              "DataFrame[District: string, Community_Area: string, ID: string, Case_Number: string, Date: string, Block: string, IUCR: string, Primary_Type: string, Description: string, Location_Description: string, Arrest: string, Domestic: string, Beat: string, Ward: string, FBI_Code: string, Year: string, Area_name: string, Area_side: string, District_Name: string, Address: string, date_time: timestamp, date_short: date]"
            ]
          },
          "metadata": {
            "tags": []
          },
          "execution_count": 375
        }
      ]
    },
    {
      "cell_type": "code",
      "metadata": {
        "id": "qD4NN8XXwoMs"
      },
      "source": [
        "# Take the 'hour' part of time into a new column called 'hour'\n",
        "df_hour = df.withColumn('hour', hour(df['date_time']))"
      ],
      "execution_count": null,
      "outputs": []
    },
    {
      "cell_type": "code",
      "metadata": {
        "colab": {
          "base_uri": "https://localhost:8080/"
        },
        "id": "PXffTph3e3US",
        "outputId": "71299be6-b9b9-43c2-9ee1-9fbae34790ed"
      },
      "source": [
        "df_hour"
      ],
      "execution_count": null,
      "outputs": [
        {
          "output_type": "execute_result",
          "data": {
            "text/plain": [
              "DataFrame[District: string, Community_Area: string, ID: string, Case_Number: string, Date: string, Block: string, IUCR: string, Primary_Type: string, Description: string, Location_Description: string, Arrest: string, Domestic: string, Beat: string, Ward: string, FBI_Code: string, Year: string, Area_name: string, Area_side: string, District_Name: string, Address: string, date_time: timestamp, date_short: date, hour: int]"
            ]
          },
          "metadata": {
            "tags": []
          },
          "execution_count": 377
        }
      ]
    },
    {
      "cell_type": "code",
      "metadata": {
        "id": "58XpiFxoxSXt"
      },
      "source": [
        "#create a df with week, year and month columns\n",
        "df_dates = df_hour.withColumn('week_day', dayofweek(df_hour['date_time']))\\\n",
        "                 .withColumn('year_month', month(df_hour['date_time']))\\\n",
        "                 .withColumn('month_day', dayofmonth(df_hour['date_time']))\\\n",
        "                 .withColumn('date_number', datediff(df['date_time'], to_date(lit('2001-01-01'), format='yyyy-MM-dd')))\\\n",
        "                 .cache()"
      ],
      "execution_count": null,
      "outputs": []
    },
    {
      "cell_type": "code",
      "metadata": {
        "colab": {
          "base_uri": "https://localhost:8080/"
        },
        "id": "VrlzEtdTxeVI",
        "outputId": "c016a637-c891-4924-e56d-3e8bf29fe090"
      },
      "source": [
        "#display all time columns \n",
        "df_dates.select(['date', 'date_short', 'hour', 'week_day', 'year', 'year_month', 'month_day', 'date_number']).show(20, truncate=False)"
      ],
      "execution_count": null,
      "outputs": [
        {
          "output_type": "stream",
          "text": [
            "+----------------------+----------+----+--------+----+----------+---------+-----------+\n",
            "|date                  |date_short|hour|week_day|year|year_month|month_day|date_number|\n",
            "+----------------------+----------+----+--------+----+----------+---------+-----------+\n",
            "|01/01/2013 12:00:00 AM|2013-01-01|0   |3       |2013|1         |1        |4383       |\n",
            "|01/01/2013 12:30:00 AM|2013-01-01|0   |3       |2013|1         |1        |4383       |\n",
            "|01/01/2013 01:30:00 AM|2013-01-01|1   |3       |2013|1         |1        |4383       |\n",
            "|01/01/2013 04:37:00 AM|2013-01-01|4   |3       |2013|1         |1        |4383       |\n",
            "|01/01/2013 06:00:00 AM|2013-01-01|6   |3       |2013|1         |1        |4383       |\n",
            "|01/01/2013 07:00:00 AM|2013-01-01|7   |3       |2013|1         |1        |4383       |\n",
            "|01/01/2013 09:00:00 AM|2013-01-01|9   |3       |2013|1         |1        |4383       |\n",
            "|01/01/2013 09:00:00 AM|2013-01-01|9   |3       |2013|1         |1        |4383       |\n",
            "|01/01/2013 05:20:00 PM|2013-01-01|17  |3       |2013|1         |1        |4383       |\n",
            "|01/02/2013 12:30:00 AM|2013-01-01|0   |4       |2013|1         |2        |4384       |\n",
            "|01/02/2013 02:40:00 AM|2013-01-01|2   |4       |2013|1         |2        |4384       |\n",
            "|01/02/2013 09:00:00 AM|2013-01-01|9   |4       |2013|1         |2        |4384       |\n",
            "|01/02/2013 01:57:00 PM|2013-01-01|13  |4       |2013|1         |2        |4384       |\n",
            "|01/02/2013 04:00:00 PM|2013-01-01|16  |4       |2013|1         |2        |4384       |\n",
            "|01/02/2013 04:00:00 PM|2013-01-01|16  |4       |2013|1         |2        |4384       |\n",
            "|01/02/2013 08:00:00 PM|2013-01-01|20  |4       |2013|1         |2        |4384       |\n",
            "|01/02/2013 11:50:00 PM|2013-01-01|23  |4       |2013|1         |2        |4384       |\n",
            "|01/03/2013 12:20:00 AM|2013-01-01|0   |5       |2013|1         |3        |4385       |\n",
            "|01/03/2013 11:00:00 AM|2013-01-01|11  |5       |2013|1         |3        |4385       |\n",
            "|01/03/2013 12:45:00 PM|2013-01-01|12  |5       |2013|1         |3        |4385       |\n",
            "+----------------------+----------+----+--------+----+----------+---------+-----------+\n",
            "only showing top 20 rows\n",
            "\n"
          ],
          "name": "stdout"
        }
      ]
    },
    {
      "cell_type": "markdown",
      "metadata": {
        "id": "8ock6U1x9UgK"
      },
      "source": [
        "**5. Lets visualize which is the peak hour of the day for crimes in Chicago**"
      ]
    },
    {
      "cell_type": "code",
      "metadata": {
        "id": "Z6n3wmM3-G9K"
      },
      "source": [
        "# Derive a data frame with crime counts per hour of the day:\n",
        "count_by_hour = df_hour.groupBy(['Primary_Type', 'hour']).count().cache()\n",
        "total_countbyhour = count_by_hour.groupBy('hour').sum('count')"
      ],
      "execution_count": null,
      "outputs": []
    },
    {
      "cell_type": "code",
      "metadata": {
        "id": "4yDtys0z-R2A"
      },
      "source": [
        "count_by_hour_p = pd.DataFrame(total_countbyhour.select(total_countbyhour['hour'], total_countbyhour['sum(count)'].alias('count'))\\\n",
        "                                .rdd.map(lambda l: l.asDict())\\\n",
        "                                 .collect())"
      ],
      "execution_count": null,
      "outputs": []
    },
    {
      "cell_type": "code",
      "metadata": {
        "id": "NsPNIWb5-WNw"
      },
      "source": [
        "#sort by hours in ascending, to represent hours through the day\n",
        "count_by_hour_p = count_by_hour_p.sort_values(by='hour')"
      ],
      "execution_count": null,
      "outputs": []
    },
    {
      "cell_type": "code",
      "metadata": {
        "colab": {
          "base_uri": "https://localhost:8080/",
          "height": 758
        },
        "id": "P1EJijt3gX76",
        "outputId": "a1e91676-81f4-4ae1-a5aa-b557229aa389"
      },
      "source": [
        "count_by_hour_p"
      ],
      "execution_count": null,
      "outputs": [
        {
          "output_type": "execute_result",
          "data": {
            "text/html": [
              "<div>\n",
              "<style scoped>\n",
              "    .dataframe tbody tr th:only-of-type {\n",
              "        vertical-align: middle;\n",
              "    }\n",
              "\n",
              "    .dataframe tbody tr th {\n",
              "        vertical-align: top;\n",
              "    }\n",
              "\n",
              "    .dataframe thead th {\n",
              "        text-align: right;\n",
              "    }\n",
              "</style>\n",
              "<table border=\"1\" class=\"dataframe\">\n",
              "  <thead>\n",
              "    <tr style=\"text-align: right;\">\n",
              "      <th></th>\n",
              "      <th>hour</th>\n",
              "      <th>count</th>\n",
              "    </tr>\n",
              "  </thead>\n",
              "  <tbody>\n",
              "    <tr>\n",
              "      <th>22</th>\n",
              "      <td>0</td>\n",
              "      <td>49618</td>\n",
              "    </tr>\n",
              "    <tr>\n",
              "      <th>2</th>\n",
              "      <td>1</td>\n",
              "      <td>30962</td>\n",
              "    </tr>\n",
              "    <tr>\n",
              "      <th>21</th>\n",
              "      <td>2</td>\n",
              "      <td>26781</td>\n",
              "    </tr>\n",
              "    <tr>\n",
              "      <th>6</th>\n",
              "      <td>3</td>\n",
              "      <td>22059</td>\n",
              "    </tr>\n",
              "    <tr>\n",
              "      <th>13</th>\n",
              "      <td>4</td>\n",
              "      <td>16610</td>\n",
              "    </tr>\n",
              "    <tr>\n",
              "      <th>8</th>\n",
              "      <td>5</td>\n",
              "      <td>14394</td>\n",
              "    </tr>\n",
              "    <tr>\n",
              "      <th>4</th>\n",
              "      <td>6</td>\n",
              "      <td>17487</td>\n",
              "    </tr>\n",
              "    <tr>\n",
              "      <th>16</th>\n",
              "      <td>7</td>\n",
              "      <td>24378</td>\n",
              "    </tr>\n",
              "    <tr>\n",
              "      <th>14</th>\n",
              "      <td>8</td>\n",
              "      <td>35606</td>\n",
              "    </tr>\n",
              "    <tr>\n",
              "      <th>11</th>\n",
              "      <td>9</td>\n",
              "      <td>47825</td>\n",
              "    </tr>\n",
              "    <tr>\n",
              "      <th>17</th>\n",
              "      <td>10</td>\n",
              "      <td>46438</td>\n",
              "    </tr>\n",
              "    <tr>\n",
              "      <th>19</th>\n",
              "      <td>11</td>\n",
              "      <td>47846</td>\n",
              "    </tr>\n",
              "    <tr>\n",
              "      <th>0</th>\n",
              "      <td>12</td>\n",
              "      <td>59526</td>\n",
              "    </tr>\n",
              "    <tr>\n",
              "      <th>3</th>\n",
              "      <td>13</td>\n",
              "      <td>50053</td>\n",
              "    </tr>\n",
              "    <tr>\n",
              "      <th>20</th>\n",
              "      <td>14</td>\n",
              "      <td>52414</td>\n",
              "    </tr>\n",
              "    <tr>\n",
              "      <th>10</th>\n",
              "      <td>15</td>\n",
              "      <td>57509</td>\n",
              "    </tr>\n",
              "    <tr>\n",
              "      <th>5</th>\n",
              "      <td>16</td>\n",
              "      <td>54417</td>\n",
              "    </tr>\n",
              "    <tr>\n",
              "      <th>12</th>\n",
              "      <td>17</td>\n",
              "      <td>53989</td>\n",
              "    </tr>\n",
              "    <tr>\n",
              "      <th>23</th>\n",
              "      <td>18</td>\n",
              "      <td>59044</td>\n",
              "    </tr>\n",
              "    <tr>\n",
              "      <th>9</th>\n",
              "      <td>19</td>\n",
              "      <td>60097</td>\n",
              "    </tr>\n",
              "    <tr>\n",
              "      <th>7</th>\n",
              "      <td>20</td>\n",
              "      <td>57613</td>\n",
              "    </tr>\n",
              "    <tr>\n",
              "      <th>18</th>\n",
              "      <td>21</td>\n",
              "      <td>54666</td>\n",
              "    </tr>\n",
              "    <tr>\n",
              "      <th>1</th>\n",
              "      <td>22</td>\n",
              "      <td>53870</td>\n",
              "    </tr>\n",
              "    <tr>\n",
              "      <th>15</th>\n",
              "      <td>23</td>\n",
              "      <td>43429</td>\n",
              "    </tr>\n",
              "  </tbody>\n",
              "</table>\n",
              "</div>"
            ],
            "text/plain": [
              "    hour  count\n",
              "22     0  49618\n",
              "2      1  30962\n",
              "21     2  26781\n",
              "6      3  22059\n",
              "13     4  16610\n",
              "8      5  14394\n",
              "4      6  17487\n",
              "16     7  24378\n",
              "14     8  35606\n",
              "11     9  47825\n",
              "17    10  46438\n",
              "19    11  47846\n",
              "0     12  59526\n",
              "3     13  50053\n",
              "20    14  52414\n",
              "10    15  57509\n",
              "5     16  54417\n",
              "12    17  53989\n",
              "23    18  59044\n",
              "9     19  60097\n",
              "7     20  57613\n",
              "18    21  54666\n",
              "1     22  53870\n",
              "15    23  43429"
            ]
          },
          "metadata": {
            "tags": []
          },
          "execution_count": 383
        }
      ]
    },
    {
      "cell_type": "code",
      "metadata": {
        "colab": {
          "base_uri": "https://localhost:8080/",
          "height": 604
        },
        "id": "P8S5FF5p-Ye7",
        "outputId": "c9be6a52-51e4-4b2d-c595-65fdc8df8e73"
      },
      "source": [
        "#plot \n",
        "\n",
        "plt.rcParams[\"figure.figsize\"] = [20, 10]\n",
        "fig, ax = plt.subplots()\n",
        "ax.plot(count_by_hour_p['hour'], count_by_hour_p['count'], label='Hourly Count')\n",
        "\n",
        "ax.set(xlabel='Hour of Day', ylabel='Number of crimes',\n",
        "       title='Overall hourly crime numbers')\n",
        "ax.grid(b=True, which='both', axis='y')\n",
        "ax.legend()"
      ],
      "execution_count": null,
      "outputs": [
        {
          "output_type": "execute_result",
          "data": {
            "text/plain": [
              "<matplotlib.legend.Legend at 0x7f62bad220b8>"
            ]
          },
          "metadata": {
            "tags": []
          },
          "execution_count": 384
        },
        {
          "output_type": "display_data",
          "data": {
            "image/png": "[encoded data removed]",
            "text/plain": [
              "<Figure size 1440x720 with 1 Axes>"
            ]
          },
          "metadata": {
            "tags": []
          }
        }
      ]
    },
    {
      "cell_type": "markdown",
      "metadata": {
        "id": "LN2CSqS21NzC"
      },
      "source": [
        "**6. Let us visualize crimes by days of week, months of year and year**"
      ]
    },
    {
      "cell_type": "code",
      "metadata": {
        "id": "qAzMreh54Zz-"
      },
      "source": [
        "crimes_by_weekday = df_dates.groupBy('week_day').count()"
      ],
      "execution_count": null,
      "outputs": []
    },
    {
      "cell_type": "code",
      "metadata": {
        "id": "ltC4YsUB3Rue"
      },
      "source": [
        "#convert to pandas dataframe\n",
        "\n",
        "crimes_by_weekday_p = pd.DataFrame(week_day_crime_counts.orderBy('week_day').rdd.map(lambda e: e.asDict()).collect())"
      ],
      "execution_count": null,
      "outputs": []
    },
    {
      "cell_type": "code",
      "metadata": {
        "colab": {
          "base_uri": "https://localhost:8080/",
          "height": 634
        },
        "id": "Pmvr2OX-4f7c",
        "outputId": "1db535c9-ae97-4959-cabc-d5f09af4fd41"
      },
      "source": [
        "plt.rcParams[\"figure.figsize\"] = [20, 10]\n",
        "\n",
        "sns.set(style=\"whitegrid\")\n",
        "\n",
        "type_graph = sns.barplot(x='week_day', y='count', data=crimes_by_weekday_p)\n",
        "type_graph.set(ylabel=\"Number of crimes\", xlabel=\"Days of the week\",title=\"Number of crimes by days of the week\")"
      ],
      "execution_count": null,
      "outputs": [
        {
          "output_type": "execute_result",
          "data": {
            "text/plain": [
              "[Text(0, 0.5, 'Number of crimes'),\n",
              " Text(0.5, 0, 'Days of the week'),\n",
              " Text(0.5, 1.0, 'Number of crimes by days of the week')]"
            ]
          },
          "metadata": {
            "tags": []
          },
          "execution_count": 387
        },
        {
          "output_type": "display_data",
          "data": {
            "image/png": "[encoded data removed]",
            "text/plain": [
              "<Figure size 1440x720 with 1 Axes>"
            ]
          },
          "metadata": {
            "tags": []
          }
        }
      ]
    },
    {
      "cell_type": "code",
      "metadata": {
        "id": "lTAayhNY6CeG"
      },
      "source": [
        "crime_by_month = df_dates.groupBy('year_month').count()\n",
        "\n",
        "#convert to pandas\n",
        "crime_by_month_p = pd.DataFrame(crime_by_month.orderBy('year_month').rdd.map(lambda e: e.asDict()).collect())"
      ],
      "execution_count": null,
      "outputs": []
    },
    {
      "cell_type": "code",
      "metadata": {
        "colab": {
          "base_uri": "https://localhost:8080/",
          "height": 634
        },
        "id": "Z-KGxBCA6KBp",
        "outputId": "1accf72b-166f-4d41-8064-77ec7f9be19c"
      },
      "source": [
        "plt.rcParams[\"figure.figsize\"] = [20, 10]\n",
        "\n",
        "sns.set(style=\"whitegrid\")\n",
        "sns.set_color_codes(\"pastel\")\n",
        "\n",
        "type_graph = sns.barplot(x='year_month', y='count', data=year_month_crime_counts_pddf)\n",
        "type_graph.set(ylabel=\"Number of crimes\", xlabel=\"Months of the year\",title=\"Number of crimes by months of year\")"
      ],
      "execution_count": null,
      "outputs": [
        {
          "output_type": "execute_result",
          "data": {
            "text/plain": [
              "[Text(0, 0.5, 'Number of crimes'),\n",
              " Text(0.5, 0, 'Months of the year'),\n",
              " Text(0.5, 1.0, 'Number of crimes by months of year')]"
            ]
          },
          "metadata": {
            "tags": []
          },
          "execution_count": 389
        },
        {
          "output_type": "display_data",
          "data": {
            "image/png": "[encoded data removed]",
            "text/plain": [
              "<Figure size 1440x720 with 1 Axes>"
            ]
          },
          "metadata": {
            "tags": []
          }
        }
      ]
    },
    {
      "cell_type": "markdown",
      "metadata": {
        "id": "FUt4Fz1TjfFS"
      },
      "source": [
        "**PREDICTION MODEL**\n",
        "Selected Predictors - \n",
        "'location_description'\n",
        "'arrest'\n",
        "'domestic'\n",
        "'beat'\n",
        "'district'\n",
        "'ward'\n",
        "'community_area'\n",
        "'fbi_code'\n",
        "'hour'\n",
        "'week_day'\n",
        "'year_month'\n",
        "'month_day'\n",
        "'date_number'\n",
        "\n"
      ]
    },
    {
      "cell_type": "code",
      "metadata": {
        "id": "oj25XNh5jjnc"
      },
      "source": [
        "#store our selected features \n",
        "features = [\n",
        " 'Location_Description',\n",
        " 'Arrest',\n",
        " 'Domestic',\n",
        " 'Beat',\n",
        " 'District',\n",
        " 'Ward',\n",
        " 'Community_Area',\n",
        " 'FBI_Code',\n",
        " 'hour',\n",
        " 'week_day',\n",
        " 'year_month',\n",
        " 'month_day',\n",
        " 'date_number']"
      ],
      "execution_count": null,
      "outputs": []
    },
    {
      "cell_type": "code",
      "metadata": {
        "colab": {
          "base_uri": "https://localhost:8080/"
        },
        "id": "XwWiPAvsCwa0",
        "outputId": "eaed0c0a-ac43-4777-dbeb-0eb332728575"
      },
      "source": [
        "#Schema \n",
        "model_features = df_dates.select(features)\n",
        "model_features.printSchema()"
      ],
      "execution_count": null,
      "outputs": [
        {
          "output_type": "stream",
          "text": [
            "root\n",
            " |-- Location_Description: string (nullable = true)\n",
            " |-- Arrest: string (nullable = true)\n",
            " |-- Domestic: string (nullable = true)\n",
            " |-- Beat: string (nullable = true)\n",
            " |-- District: string (nullable = true)\n",
            " |-- Ward: string (nullable = true)\n",
            " |-- Community_Area: string (nullable = true)\n",
            " |-- FBI_Code: string (nullable = true)\n",
            " |-- hour: integer (nullable = true)\n",
            " |-- week_day: integer (nullable = true)\n",
            " |-- year_month: integer (nullable = true)\n",
            " |-- month_day: integer (nullable = true)\n",
            " |-- date_number: integer (nullable = true)\n",
            "\n"
          ],
          "name": "stdout"
        }
      ]
    },
    {
      "cell_type": "markdown",
      "metadata": {
        "id": "3dCPL0ynEVWm"
      },
      "source": [
        "Indexing the string features from our selected list, to build a smooth model"
      ]
    },
    {
      "cell_type": "code",
      "metadata": {
        "id": "WdphvwwoGpTK"
      },
      "source": [
        "#import required libraries\n",
        "from pyspark.ml.classification import LogisticRegression\n",
        "from pyspark.ml.feature import StringIndexer, VectorAssembler\n"
      ],
      "execution_count": null,
      "outputs": []
    },
    {
      "cell_type": "code",
      "metadata": {
        "id": "R02aEZvWC5bc"
      },
      "source": [
        "df_dates_features = df_dates.na.drop(subset=features)"
      ],
      "execution_count": null,
      "outputs": []
    },
    {
      "cell_type": "code",
      "metadata": {
        "colab": {
          "base_uri": "https://localhost:8080/"
        },
        "id": "5WqJ8YCSFLpe",
        "outputId": "fe078970-4ffa-4bb4-9fdb-183702f2dc19"
      },
      "source": [
        "dic = []\n",
        "\n",
        "for feature in features:\n",
        "    print('Analysing %s' % feature)\n",
        "    levels = model_features.select(feature).distinct()\n",
        "    dic.append({'feature': feature, 'level_count': levels.count()})"
      ],
      "execution_count": null,
      "outputs": [
        {
          "output_type": "stream",
          "text": [
            "Analysing Location_Description\n",
            "Analysing Arrest\n",
            "Analysing Domestic\n",
            "Analysing Beat\n",
            "Analysing District\n",
            "Analysing Ward\n",
            "Analysing Community_Area\n",
            "Analysing FBI_Code\n",
            "Analysing hour\n",
            "Analysing week_day\n",
            "Analysing year_month\n",
            "Analysing month_day\n",
            "Analysing date_number\n"
          ],
          "name": "stdout"
        }
      ]
    },
    {
      "cell_type": "code",
      "metadata": {
        "colab": {
          "base_uri": "https://localhost:8080/"
        },
        "id": "Hmj6WXmxE1WG",
        "outputId": "2b67bbc1-5054-439e-edc7-61ba56305548"
      },
      "source": [
        "\n",
        "\n",
        "for feature in dic:\n",
        "    indexer = StringIndexer(inputCol=feature['feature'], outputCol='%s_indexed' % feature['feature'])\n",
        "    print('Fitting feature \"%s\"' % feature['feature'])\n",
        "    model = indexer.fit(df_dates_features)\n",
        "    print('Transforming \"%s\"' % feature['feature'])\n",
        "    df_dates_features = model.transform(df_dates_features)"
      ],
      "execution_count": null,
      "outputs": [
        {
          "output_type": "stream",
          "text": [
            "Fitting feature \"Location_Description\"\n",
            "Transforming \"Location_Description\"\n",
            "Fitting feature \"Arrest\"\n",
            "Transforming \"Arrest\"\n",
            "Fitting feature \"Domestic\"\n",
            "Transforming \"Domestic\"\n",
            "Fitting feature \"Beat\"\n",
            "Transforming \"Beat\"\n",
            "Fitting feature \"District\"\n",
            "Transforming \"District\"\n",
            "Fitting feature \"Ward\"\n",
            "Transforming \"Ward\"\n",
            "Fitting feature \"Community_Area\"\n",
            "Transforming \"Community_Area\"\n",
            "Fitting feature \"FBI_Code\"\n",
            "Transforming \"FBI_Code\"\n",
            "Fitting feature \"hour\"\n",
            "Transforming \"hour\"\n",
            "Fitting feature \"week_day\"\n",
            "Transforming \"week_day\"\n",
            "Fitting feature \"year_month\"\n",
            "Transforming \"year_month\"\n",
            "Fitting feature \"month_day\"\n",
            "Transforming \"month_day\"\n",
            "Fitting feature \"date_number\"\n",
            "Transforming \"date_number\"\n"
          ],
          "name": "stdout"
        }
      ]
    },
    {
      "cell_type": "code",
      "metadata": {
        "id": "lPYBDJOjFpfb"
      },
      "source": [
        "## String-index the response variable:\n",
        "response_indexer = StringIndexer(inputCol='Primary_Type', outputCol='indexed_primary_type')\n",
        "response_model = response_indexer.fit(df_dates_features)\n",
        "df_dates_features = response_model.transform(df_dates_features)"
      ],
      "execution_count": null,
      "outputs": []
    },
    {
      "cell_type": "markdown",
      "metadata": {
        "id": "9V7dCCyzF5TR"
      },
      "source": [
        "Vectorize the selected features"
      ]
    },
    {
      "cell_type": "code",
      "metadata": {
        "colab": {
          "base_uri": "https://localhost:8080/"
        },
        "id": "OyiUTQayF06H",
        "outputId": "583d8e34-9cc3-459f-f623-ef2923dc9602"
      },
      "source": [
        "feature_indexed = ['%s_indexed' % fc['feature'] for fc in feature_level_count_dic]\n",
        "feature_indexed"
      ],
      "execution_count": null,
      "outputs": [
        {
          "output_type": "execute_result",
          "data": {
            "text/plain": [
              "['Location_Description_indexed',\n",
              " 'Arrest_indexed',\n",
              " 'Domestic_indexed',\n",
              " 'Beat_indexed',\n",
              " 'District_indexed',\n",
              " 'Ward_indexed',\n",
              " 'Community_Area_indexed',\n",
              " 'FBI_Code_indexed',\n",
              " 'hour_indexed',\n",
              " 'week_day_indexed',\n",
              " 'year_month_indexed',\n",
              " 'month_day_indexed',\n",
              " 'date_number_indexed']"
            ]
          },
          "metadata": {
            "tags": []
          },
          "execution_count": 397
        }
      ]
    },
    {
      "cell_type": "code",
      "metadata": {
        "id": "0VVIydKNGB1Q"
      },
      "source": [
        "combiner = VectorAssembler(inputCols=feature_indexed, outputCol='features')\n",
        "vectorized_df_dates = combiner.transform(df_dates_features)"
      ],
      "execution_count": null,
      "outputs": []
    },
    {
      "cell_type": "code",
      "metadata": {
        "colab": {
          "base_uri": "https://localhost:8080/"
        },
        "id": "CD1B3sgnGGtw",
        "outputId": "58aa1493-b770-4cb9-c495-6dcaa0e98b35"
      },
      "source": [
        "vectorized_df_dates.select('features').take(1)"
      ],
      "execution_count": null,
      "outputs": [
        {
          "output_type": "execute_result",
          "data": {
            "text/plain": [
              "[Row(features=DenseVector([1.0, 0.0, 1.0, 210.0, 8.0, 26.0, 35.0, 17.0, 11.0, 5.0, 7.0, 0.0, 0.0]))]"
            ]
          },
          "metadata": {
            "tags": []
          },
          "execution_count": 399
        }
      ]
    },
    {
      "cell_type": "markdown",
      "metadata": {
        "id": "f1E8NGERGRiJ"
      },
      "source": [
        "Split the dataset into train and test - 70% train data and 30% test data "
      ]
    },
    {
      "cell_type": "code",
      "metadata": {
        "id": "SA0q_IsyGJ9E"
      },
      "source": [
        "train, test = vectorized_df_dates.randomSplit([0.6, 0.4])"
      ],
      "execution_count": null,
      "outputs": []
    },
    {
      "cell_type": "code",
      "metadata": {
        "id": "z4kvLMonGyzv"
      },
      "source": [
        "logistic_regression = LogisticRegression(labelCol='indexed_primary_type', featuresCol='features', maxIter=40, family='multinomial')"
      ],
      "execution_count": null,
      "outputs": []
    },
    {
      "cell_type": "code",
      "metadata": {
        "id": "SOpX3LiaGz1X"
      },
      "source": [
        "#fitting the train dataset onto a logistic regression model\n",
        "fittedModel = logistic_regression.fit(train)"
      ],
      "execution_count": null,
      "outputs": []
    },
    {
      "cell_type": "markdown",
      "metadata": {
        "id": "GeT3XMUuHcAB"
      },
      "source": [
        "Performance of the model"
      ]
    },
    {
      "cell_type": "code",
      "metadata": {
        "colab": {
          "base_uri": "https://localhost:8080/"
        },
        "id": "EltFcpU1G34m",
        "outputId": "b9f1ba82-88bd-40b0-e8cc-0f5a9a31ff01"
      },
      "source": [
        "#Model Accuracy\n",
        "fittedModel.summary.accuracy"
      ],
      "execution_count": null,
      "outputs": [
        {
          "output_type": "execute_result",
          "data": {
            "text/plain": [
              "0.6135278970508625"
            ]
          },
          "metadata": {
            "tags": []
          },
          "execution_count": 403
        }
      ]
    },
    {
      "cell_type": "code",
      "metadata": {
        "id": "FjXN4FS3NNBK"
      },
      "source": [
        "#Summary of the Model\n",
        "Modelsummary = fittedModel.summary"
      ],
      "execution_count": null,
      "outputs": []
    },
    {
      "cell_type": "code",
      "metadata": {
        "colab": {
          "base_uri": "https://localhost:8080/"
        },
        "id": "crK-edd4NXgw",
        "outputId": "702a97ae-2d24-436d-9693-ff7e93cb7ccb"
      },
      "source": [
        "fittedModel.coefficientMatrix"
      ],
      "execution_count": null,
      "outputs": [
        {
          "output_type": "execute_result",
          "data": {
            "text/plain": [
              "DenseMatrix(34, 13, [0.0049, -0.1173, 0.5195, 0.0034, 0.058, 0.0098, 0.0087, -5.4679, ..., 0.0001, 0.0001, -0.0, -0.0001, 0.0002, 0.0005, 0.0001, 0.0], 1)"
            ]
          },
          "metadata": {
            "tags": []
          },
          "execution_count": 405
        }
      ]
    },
    {
      "cell_type": "code",
      "metadata": {
        "colab": {
          "base_uri": "https://localhost:8080/"
        },
        "id": "g2qVXvXUNMxR",
        "outputId": "801946a2-bf97-43c0-eaa6-2783cde27183"
      },
      "source": [
        "print(fittedModel.coefficientMatrix)\n"
      ],
      "execution_count": null,
      "outputs": [
        {
          "output_type": "stream",
          "text": [
            "DenseMatrix([[ 4.91583184e-03, -1.17299458e-01,  5.19476044e-01,\n",
            "               3.35436907e-03,  5.79897165e-02,  9.78897398e-03,\n",
            "               8.69057355e-03, -5.46789927e+00,  8.39867486e-02,\n",
            "               2.12338441e-01,  9.53875308e-02,  5.50467913e-02,\n",
            "               8.27718660e-04],\n",
            "             [ 1.47013316e-02, -4.17823927e-01,  3.28015482e+00,\n",
            "               2.62295200e-03,  4.32545755e-02,  3.94511615e-03,\n",
            "               4.66124756e-03, -7.26002131e-01,  8.47196238e-02,\n",
            "               2.11999646e-01,  7.77383021e-02,  5.05535993e-02,\n",
            "               7.61684510e-04],\n",
            "             [ 2.07191716e-03, -2.08604770e+00,  9.16867265e-01,\n",
            "               2.91458648e-03,  3.36018385e-02,  1.64210720e-02,\n",
            "               1.03093708e-02, -9.29026238e-01,  8.76031023e-02,\n",
            "               1.81583585e-01,  7.30728587e-02,  4.52481733e-02,\n",
            "               8.38992913e-04],\n",
            "             [-4.67171370e-03,  5.34370611e+00, -6.62984515e+00,\n",
            "               9.88623740e-04,  1.51177052e-02, -7.62147423e-04,\n",
            "               4.28079553e-03, -3.59240480e-01,  3.59074531e-02,\n",
            "               2.13525148e-01,  1.42988500e-01,  5.42613279e-02,\n",
            "               4.72281116e-04],\n",
            "             [ 2.65735786e-02, -5.73071537e-01,  2.83953490e+00,\n",
            "               2.15059462e-03,  3.84091233e-02,  7.64727342e-03,\n",
            "               7.94600093e-03,  1.07601654e-01,  1.99686110e-02,\n",
            "               1.21104790e-01,  4.10574972e-02,  2.96105647e-02,\n",
            "               5.59124503e-04],\n",
            "             [-1.32249464e-03, -4.84829116e-01,  2.79881123e+00,\n",
            "               3.55239961e-03,  4.55605659e-02,  1.03708058e-02,\n",
            "               5.63707744e-03, -4.99935879e-01,  7.28003465e-02,\n",
            "               2.01902685e-01,  6.74659901e-02,  4.77390602e-02,\n",
            "               9.71597705e-04],\n",
            "             [ 6.75533194e-03, -1.61675867e+00, -2.54858274e+00,\n",
            "               2.63889418e-03,  2.35489702e-02,  1.80630107e-02,\n",
            "               7.86698408e-03, -1.93711063e-01,  9.14044620e-02,\n",
            "               1.65946926e-01,  1.05210875e-01,  4.23795225e-02,\n",
            "               5.35443898e-04],\n",
            "             [ 3.60014613e-02, -1.20821970e+00, -2.08768872e+00,\n",
            "               2.28349563e-03,  7.73187542e-02,  2.06288445e-03,\n",
            "               7.05355722e-03,  2.23269228e-01,  3.20870579e-02,\n",
            "               7.73350178e-02,  6.56048484e-02,  1.88220347e-02,\n",
            "               6.63274508e-04],\n",
            "             [-1.19308110e-01, -1.87482529e+00, -2.65773661e+00,\n",
            "               2.89638622e-03,  2.57399246e-02,  1.52090830e-02,\n",
            "               1.09803601e-02,  2.35111967e-01,  4.18959525e-02,\n",
            "               1.08837262e-01,  8.18002962e-02,  2.77544195e-02,\n",
            "               3.80390888e-04],\n",
            "             [ 8.35637469e-03, -1.55411309e+00, -1.52804990e+00,\n",
            "               1.75714604e-03,  2.29739406e-02,  3.62383035e-03,\n",
            "               4.03983590e-03,  3.48329453e-01,  3.94964955e-02,\n",
            "               6.34593022e-02,  6.93242575e-02,  1.57959627e-02,\n",
            "               2.03161125e-04],\n",
            "             [ 4.41776927e-02,  1.97778870e+00,  8.32136110e-01,\n",
            "               3.50679369e-03,  8.17546328e-02, -6.45385157e-03,\n",
            "               1.13830415e-02, -7.89922358e-01,  7.28069239e-02,\n",
            "               2.17546712e-01,  8.83400205e-02,  5.67012361e-02,\n",
            "               7.49859500e-04],\n",
            "             [-3.64277876e-02,  1.02053205e+00, -1.82097915e+00,\n",
            "              -2.13180463e-03, -1.68062950e-02, -1.68854809e-02,\n",
            "               3.09391186e-03,  6.20692951e-01, -8.32155300e-02,\n",
            "              -1.43423894e-01, -8.93324572e-02, -3.81310484e-02,\n",
            "               1.88119139e-04],\n",
            "             [ 5.77281736e-03,  1.45787072e+00, -3.01825706e-01,\n",
            "              -7.08836641e-04, -2.14962946e-02,  1.11822107e-02,\n",
            "               5.21056619e-04,  4.85188298e-01, -9.06741681e-02,\n",
            "              -9.62154115e-02, -1.30595007e-02, -1.56119052e-02,\n",
            "              -3.94184067e-04],\n",
            "             [-9.42717927e-03, -2.62188295e+00,  3.51670154e+00,\n",
            "              -8.22271398e-04, -2.14791722e-02,  1.02346942e-02,\n",
            "               9.33876265e-03,  6.42304200e-01, -1.24635867e-01,\n",
            "              -2.10233854e-01, -1.61483266e-02, -5.13794943e-02,\n",
            "              -4.57746574e-04],\n",
            "             [-7.96820201e-02,  3.01030366e+00, -1.19318372e+00,\n",
            "              -9.67946933e-03, -1.73793647e-01, -4.94658053e-02,\n",
            "              -4.82423332e-02,  8.74089576e-01, -1.16098442e-01,\n",
            "              -3.94901381e-01, -1.42834548e-01, -8.77406407e-02,\n",
            "              -1.47902711e-03],\n",
            "             [-3.62233145e-03, -2.95141136e+00,  1.77715512e+00,\n",
            "              -3.17964343e-03, -3.64905995e-02, -1.40598727e-02,\n",
            "              -1.24355914e-02,  8.12395194e-01, -3.57026426e-02,\n",
            "              -2.45498352e-01, -1.27031362e-01, -7.73514690e-02,\n",
            "              -1.02442559e-03],\n",
            "             [-3.74700955e-02,  3.45477152e+00, -8.86370189e-01,\n",
            "              -4.22000601e-03, -6.94732899e-02, -1.90975630e-02,\n",
            "              -1.61312098e-02,  5.69086741e-01, -9.76984579e-02,\n",
            "              -1.48629167e-01, -1.15794530e-01, -4.41778903e-02,\n",
            "              -6.49729306e-04],\n",
            "             [ 5.89977681e-03, -1.98775932e+00,  9.12521628e-01,\n",
            "              -3.93402630e-03, -4.89881570e-02, -3.94908541e-03,\n",
            "              -1.03968187e-02,  9.11409957e-01, -9.70430142e-02,\n",
            "              -3.03789631e-01, -1.65650067e-01, -9.20201270e-02,\n",
            "              -1.55566693e-03],\n",
            "             [ 6.03283727e-02, -6.20401098e-01,  1.80061495e-01,\n",
            "              -5.65210614e-03, -7.45479457e-02, -2.43911853e-02,\n",
            "              -1.73031398e-02,  7.14856870e-01, -2.74022036e-02,\n",
            "              -1.57359100e-01, -1.28759195e-01, -4.49945312e-02,\n",
            "              -8.48800137e-04],\n",
            "             [ 5.28569698e-03, -1.56334693e+00, -5.60585700e-02,\n",
            "              -2.84046190e-03, -6.34443319e-02, -6.52059347e-03,\n",
            "              -6.29364392e-03,  6.90085657e-01,  2.43238252e-02,\n",
            "              -1.56666199e-01, -1.03851760e-01, -3.85854984e-02,\n",
            "              -6.44919587e-04],\n",
            "             [-7.11473250e-03,  1.84459977e+00, -3.43629136e-01,\n",
            "              -5.50094675e-03, -6.51302181e-02, -3.71536033e-02,\n",
            "              -2.48421914e-02,  7.19015041e-01, -1.04409428e-01,\n",
            "              -1.18573267e-01, -1.63845079e-01, -2.68486157e-02,\n",
            "              -1.51590127e-03],\n",
            "             [ 3.21253608e-02,  1.35077022e+00, -2.99885156e-01,\n",
            "              -1.63824014e-03, -1.60457525e-02,  1.71415288e-03,\n",
            "              -9.86156206e-03,  6.33252759e-01, -6.72606771e-02,\n",
            "              -2.21199257e-01, -9.50565739e-02, -4.33706989e-02,\n",
            "              -1.06916346e-03],\n",
            "             [ 1.90340473e-03, -4.00396549e-01,  1.11182195e+00,\n",
            "               1.85274922e-03,  2.50182655e-02,  1.80998378e-02,\n",
            "               1.24948519e-02,  1.20261238e-01,  2.14589867e-02,\n",
            "               7.48239236e-02,  4.63819903e-02,  2.04868176e-02,\n",
            "               4.20937048e-04],\n",
            "             [ 3.13654168e-03, -7.83865022e-02,  1.26313201e+00,\n",
            "               2.69646854e-03,  3.27886788e-02,  1.31835343e-02,\n",
            "               1.08971239e-02,  5.03767331e-02,  3.99372218e-02,\n",
            "               1.04448059e-01,  5.81604846e-02,  2.86663728e-02,\n",
            "               5.55684810e-04],\n",
            "             [ 1.24724533e-02,  1.00612046e-02,  2.32165673e-01,\n",
            "               2.97409002e-03,  3.44728114e-02,  1.46048456e-02,\n",
            "               1.15041658e-02,  1.21604012e-03,  3.67660965e-02,\n",
            "               9.84718023e-02,  5.71872367e-02,  3.10598051e-02,\n",
            "               5.72755481e-04],\n",
            "             [ 1.45021327e-03,  2.71520885e-01,  9.22816237e-02,\n",
            "               1.11560484e-03,  1.19094452e-02,  6.37293468e-03,\n",
            "               4.24415684e-03,  8.57400194e-02,  1.39785686e-02,\n",
            "               3.40535885e-02,  2.74822059e-02,  8.85877950e-03,\n",
            "               2.31804713e-04],\n",
            "             [ 1.12941729e-02,  8.98553682e-03,  1.06059708e-01,\n",
            "               6.73908817e-04,  1.07858440e-02,  3.31319399e-03,\n",
            "               1.66855279e-03,  5.21366027e-02,  1.60108801e-02,\n",
            "               2.16869071e-02,  1.45383995e-02,  7.12139296e-03,\n",
            "               1.38077707e-04],\n",
            "             [ 4.83492599e-03,  2.31517044e-01, -9.10344983e-03,\n",
            "               5.62871607e-04,  4.79060377e-03,  3.18391736e-03,\n",
            "               2.43570702e-03,  3.41484707e-02,  8.82772992e-03,\n",
            "               2.12427660e-02,  1.21007833e-02,  5.35724041e-03,\n",
            "               1.62199529e-04],\n",
            "             [ 5.11568550e-03, -8.77895717e-03, -8.82426257e-03,\n",
            "               8.41889602e-04,  1.10292285e-02,  5.14928273e-03,\n",
            "               3.13948108e-03,  5.13786335e-03,  5.66610675e-03,\n",
            "               2.71191607e-02,  1.24695087e-02,  4.65717109e-03,\n",
            "               1.63365937e-04],\n",
            "             [ 3.33006360e-03,  1.16177153e-01, -4.58716633e-03,\n",
            "               2.47807048e-04,  4.26351258e-03,  1.26761783e-03,\n",
            "               1.10183120e-03,  2.49447369e-02,  4.56351108e-03,\n",
            "               9.38572787e-03,  8.19023155e-03,  3.41328000e-03,\n",
            "               8.82637509e-05],\n",
            "             [ 1.72614607e-03, -3.72156197e-03, -4.33634188e-03,\n",
            "               2.82456493e-04,  2.54233549e-03,  1.86764620e-03,\n",
            "               1.43525541e-03,  1.53654704e-03,  4.02551558e-03,\n",
            "               1.01875615e-02,  5.57117634e-03,  2.74562238e-03,\n",
            "               6.27132161e-05],\n",
            "             [ 2.28683419e-04,  1.22812942e-05, -3.33500026e-03,\n",
            "               1.13724231e-04,  1.69334576e-03,  3.07114026e-04,\n",
            "               2.42533636e-04,  1.16665125e-03,  3.03895551e-03,\n",
            "               1.15628056e-02,  6.57168166e-03,  6.56928421e-04,\n",
            "               4.88599090e-05],\n",
            "             [ 6.12258731e-04,  7.18690278e-02, -3.54509988e-03,\n",
            "               2.67936359e-04,  3.10516732e-03,  1.01787768e-03,\n",
            "               4.21142778e-04,  2.43095464e-03,  2.91941084e-03,\n",
            "               7.68194640e-03,  4.26192334e-03,  3.18041259e-03,\n",
            "               3.73288341e-05],\n",
            "             [-2.36287845e-05, -1.41215634e-03,  8.68495858e-03,\n",
            "               1.20646282e-05,  2.67172993e-05,  1.08278636e-04,\n",
            "               1.19112056e-04, -4.79778487e-05, -5.31555888e-05,\n",
            "               2.45749611e-04,  4.56801190e-04,  9.54041717e-05,\n",
            "               5.92462803e-06]])\n"
          ],
          "name": "stdout"
        }
      ]
    },
    {
      "cell_type": "code",
      "metadata": {
        "colab": {
          "base_uri": "https://localhost:8080/"
        },
        "id": "-E05nfb0NfZI",
        "outputId": "b84710eb-1888-4c5a-8726-ca725544ab5e"
      },
      "source": [
        "vectorized_df_dates.select('features').show(2, truncate=False)\n"
      ],
      "execution_count": null,
      "outputs": [
        {
          "output_type": "stream",
          "text": [
            "+-----------------------------------------------------------+\n",
            "|features                                                   |\n",
            "+-----------------------------------------------------------+\n",
            "|[1.0,0.0,1.0,210.0,8.0,26.0,35.0,17.0,11.0,5.0,7.0,0.0,0.0]|\n",
            "|[2.0,0.0,0.0,127.0,9.0,26.0,35.0,2.0,11.0,5.0,7.0,0.0,0.0] |\n",
            "+-----------------------------------------------------------+\n",
            "only showing top 2 rows\n",
            "\n"
          ],
          "name": "stdout"
        }
      ]
    },
    {
      "cell_type": "code",
      "metadata": {
        "colab": {
          "base_uri": "https://localhost:8080/"
        },
        "id": "dj3Mw2r1OAro",
        "outputId": "9ffff49d-98c3-4e40-9af2-087f51ad94d5"
      },
      "source": [
        "label_stats = {float(i):{'index': float(i)} for i in range(34)}\n",
        "print(label_stats)"
      ],
      "execution_count": null,
      "outputs": [
        {
          "output_type": "stream",
          "text": [
            "{0.0: {'index': 0.0}, 1.0: {'index': 1.0}, 2.0: {'index': 2.0}, 3.0: {'index': 3.0}, 4.0: {'index': 4.0}, 5.0: {'index': 5.0}, 6.0: {'index': 6.0}, 7.0: {'index': 7.0}, 8.0: {'index': 8.0}, 9.0: {'index': 9.0}, 10.0: {'index': 10.0}, 11.0: {'index': 11.0}, 12.0: {'index': 12.0}, 13.0: {'index': 13.0}, 14.0: {'index': 14.0}, 15.0: {'index': 15.0}, 16.0: {'index': 16.0}, 17.0: {'index': 17.0}, 18.0: {'index': 18.0}, 19.0: {'index': 19.0}, 20.0: {'index': 20.0}, 21.0: {'index': 21.0}, 22.0: {'index': 22.0}, 23.0: {'index': 23.0}, 24.0: {'index': 24.0}, 25.0: {'index': 25.0}, 26.0: {'index': 26.0}, 27.0: {'index': 27.0}, 28.0: {'index': 28.0}, 29.0: {'index': 29.0}, 30.0: {'index': 30.0}, 31.0: {'index': 31.0}, 32.0: {'index': 32.0}, 33.0: {'index': 33.0}}\n"
          ],
          "name": "stdout"
        }
      ]
    },
    {
      "cell_type": "code",
      "metadata": {
        "colab": {
          "base_uri": "https://localhost:8080/"
        },
        "id": "W9arvuv6N3l4",
        "outputId": "f8321bb5-247f-4053-d1bc-a22e9870604c"
      },
      "source": [
        "#Calculating False Positive Rate, True Positive Rate, Precision, Recall ,F-measure for train data\n",
        "print(\"False positive rate by label:\")\n",
        "for i, rate in enumerate(Modelsummary.falsePositiveRateByLabel):\n",
        "    label_stats[i]['false_positive_rate'] = rate\n",
        "    \n",
        "for i, rate in enumerate(Modelsummary.truePositiveRateByLabel):\n",
        "    label_stats[i]['true_positive_rate'] = rate\n",
        "    \n",
        "for i, rate in enumerate(Modelsummary.precisionByLabel):\n",
        "    label_stats[i]['precision_rate'] = rate\n",
        "    \n",
        "for i, rate in enumerate(Modelsummary.recallByLabel):\n",
        "    label_stats[i]['recall_rate'] = rate\n",
        "    \n",
        "for i, rate in enumerate(Modelsummary.fMeasureByLabel()):\n",
        "    label_stats[i]['f_measure'] = rate"
      ],
      "execution_count": null,
      "outputs": [
        {
          "output_type": "stream",
          "text": [
            "False positive rate by label:\n"
          ],
          "name": "stdout"
        }
      ]
    },
    {
      "cell_type": "code",
      "metadata": {
        "id": "ck8z1YV2OHSZ"
      },
      "source": [
        "#Ordered By Indexed Primary Type\n",
        "train_rdd = train.select(['primary_type', 'indexed_primary_type']).distinct().orderBy('indexed_primary_type').rdd.map(lambda l: l.asDict()).collect()"
      ],
      "execution_count": null,
      "outputs": []
    },
    {
      "cell_type": "code",
      "metadata": {
        "colab": {
          "base_uri": "https://localhost:8080/"
        },
        "id": "mHfiQtxQOMFg",
        "outputId": "816471b8-559c-49ca-a7be-5dc22855089e"
      },
      "source": [
        "for l in train_rdd:\n",
        "    print(l)\n",
        "    label_stats[l['indexed_primary_type']]['primary_type'] = l['primary_type']"
      ],
      "execution_count": null,
      "outputs": [
        {
          "output_type": "stream",
          "text": [
            "{'primary_type': 'THEFT', 'indexed_primary_type': 0.0}\n",
            "{'primary_type': 'BATTERY', 'indexed_primary_type': 1.0}\n",
            "{'primary_type': 'CRIMINAL DAMAGE', 'indexed_primary_type': 2.0}\n",
            "{'primary_type': 'NARCOTICS', 'indexed_primary_type': 3.0}\n",
            "{'primary_type': 'ASSAULT', 'indexed_primary_type': 4.0}\n",
            "{'primary_type': 'OTHER OFFENSE', 'indexed_primary_type': 5.0}\n",
            "{'primary_type': 'BURGLARY', 'indexed_primary_type': 6.0}\n",
            "{'primary_type': 'DECEPTIVE PRACTICE', 'indexed_primary_type': 7.0}\n",
            "{'primary_type': 'MOTOR VEHICLE THEFT', 'indexed_primary_type': 8.0}\n",
            "{'primary_type': 'ROBBERY', 'indexed_primary_type': 9.0}\n",
            "{'primary_type': 'CRIMINAL TRESPASS', 'indexed_primary_type': 10.0}\n",
            "{'primary_type': 'WEAPONS VIOLATION', 'indexed_primary_type': 11.0}\n",
            "{'primary_type': 'PUBLIC PEACE VIOLATION', 'indexed_primary_type': 12.0}\n",
            "{'primary_type': 'OFFENSE INVOLVING CHILDREN', 'indexed_primary_type': 13.0}\n",
            "{'primary_type': 'PROSTITUTION', 'indexed_primary_type': 14.0}\n",
            "{'primary_type': 'CRIM SEXUAL ASSAULT', 'indexed_primary_type': 15.0}\n",
            "{'primary_type': 'INTERFERENCE WITH PUBLIC OFFICER', 'indexed_primary_type': 16.0}\n",
            "{'primary_type': 'SEX OFFENSE', 'indexed_primary_type': 17.0}\n",
            "{'primary_type': 'HOMICIDE', 'indexed_primary_type': 18.0}\n",
            "{'primary_type': 'ARSON', 'indexed_primary_type': 19.0}\n",
            "{'primary_type': 'GAMBLING', 'indexed_primary_type': 20.0}\n",
            "{'primary_type': 'LIQUOR LAW VIOLATION', 'indexed_primary_type': 21.0}\n",
            "{'primary_type': 'KIDNAPPING', 'indexed_primary_type': 22.0}\n",
            "{'primary_type': 'STALKING', 'indexed_primary_type': 23.0}\n",
            "{'primary_type': 'INTIMIDATION', 'indexed_primary_type': 24.0}\n",
            "{'primary_type': 'OBSCENITY', 'indexed_primary_type': 25.0}\n",
            "{'primary_type': 'CRIMINAL SEXUAL ASSAULT', 'indexed_primary_type': 26.0}\n",
            "{'primary_type': 'CONCEALED CARRY LICENSE VIOLATION', 'indexed_primary_type': 27.0}\n",
            "{'primary_type': 'NON-CRIMINAL', 'indexed_primary_type': 28.0}\n",
            "{'primary_type': 'PUBLIC INDECENCY', 'indexed_primary_type': 29.0}\n",
            "{'primary_type': 'NON - CRIMINAL', 'indexed_primary_type': 30.0}\n",
            "{'primary_type': 'HUMAN TRAFFICKING', 'indexed_primary_type': 31.0}\n",
            "{'primary_type': 'OTHER NARCOTIC VIOLATION', 'indexed_primary_type': 32.0}\n",
            "{'primary_type': 'NON-CRIMINAL (SUBJECT SPECIFIED)', 'indexed_primary_type': 33.0}\n"
          ],
          "name": "stdout"
        }
      ]
    },
    {
      "cell_type": "code",
      "metadata": {
        "id": "KSxkM-qXOZmb"
      },
      "source": [
        "#Computing all the measures\n",
        "rates_pddf = pd.DataFrame(list(label_stats.values()))"
      ],
      "execution_count": null,
      "outputs": []
    },
    {
      "cell_type": "code",
      "metadata": {
        "id": "oTbH3sR_Ocyu"
      },
      "source": [
        "#Sorting the measures by highest precison rate to lowest\n",
        "rates_pddf = rates_pddf.sort_values(by='precision_rate', ascending=False)"
      ],
      "execution_count": null,
      "outputs": []
    },
    {
      "cell_type": "code",
      "metadata": {
        "colab": {
          "base_uri": "https://localhost:8080/",
          "height": 1000
        },
        "id": "Sd0qEQ0sOfdR",
        "outputId": "0a399d75-67a1-401e-9cd8-5db7286e802b"
      },
      "source": [
        "rates_pddf"
      ],
      "execution_count": null,
      "outputs": [
        {
          "output_type": "execute_result",
          "data": {
            "text/html": [
              "<div>\n",
              "<style scoped>\n",
              "    .dataframe tbody tr th:only-of-type {\n",
              "        vertical-align: middle;\n",
              "    }\n",
              "\n",
              "    .dataframe tbody tr th {\n",
              "        vertical-align: top;\n",
              "    }\n",
              "\n",
              "    .dataframe thead th {\n",
              "        text-align: right;\n",
              "    }\n",
              "</style>\n",
              "<table border=\"1\" class=\"dataframe\">\n",
              "  <thead>\n",
              "    <tr style=\"text-align: right;\">\n",
              "      <th></th>\n",
              "      <th>index</th>\n",
              "      <th>false_positive_rate</th>\n",
              "      <th>true_positive_rate</th>\n",
              "      <th>precision_rate</th>\n",
              "      <th>recall_rate</th>\n",
              "      <th>f_measure</th>\n",
              "      <th>primary_type</th>\n",
              "    </tr>\n",
              "  </thead>\n",
              "  <tbody>\n",
              "    <tr>\n",
              "      <th>0</th>\n",
              "      <td>0.0</td>\n",
              "      <td>0.001157</td>\n",
              "      <td>1.000000</td>\n",
              "      <td>0.996065</td>\n",
              "      <td>1.000000</td>\n",
              "      <td>0.998029</td>\n",
              "      <td>THEFT</td>\n",
              "    </tr>\n",
              "    <tr>\n",
              "      <th>19</th>\n",
              "      <td>19.0</td>\n",
              "      <td>0.000002</td>\n",
              "      <td>0.002060</td>\n",
              "      <td>0.666667</td>\n",
              "      <td>0.002060</td>\n",
              "      <td>0.004107</td>\n",
              "      <td>ARSON</td>\n",
              "    </tr>\n",
              "    <tr>\n",
              "      <th>6</th>\n",
              "      <td>6.0</td>\n",
              "      <td>0.024651</td>\n",
              "      <td>0.735225</td>\n",
              "      <td>0.627895</td>\n",
              "      <td>0.735225</td>\n",
              "      <td>0.677335</td>\n",
              "      <td>BURGLARY</td>\n",
              "    </tr>\n",
              "    <tr>\n",
              "      <th>1</th>\n",
              "      <td>1.0</td>\n",
              "      <td>0.073208</td>\n",
              "      <td>0.479350</td>\n",
              "      <td>0.595350</td>\n",
              "      <td>0.479350</td>\n",
              "      <td>0.531090</td>\n",
              "      <td>BATTERY</td>\n",
              "    </tr>\n",
              "    <tr>\n",
              "      <th>3</th>\n",
              "      <td>3.0</td>\n",
              "      <td>0.070809</td>\n",
              "      <td>0.978002</td>\n",
              "      <td>0.583692</td>\n",
              "      <td>0.978002</td>\n",
              "      <td>0.731068</td>\n",
              "      <td>NARCOTICS</td>\n",
              "    </tr>\n",
              "    <tr>\n",
              "      <th>2</th>\n",
              "      <td>2.0</td>\n",
              "      <td>0.093017</td>\n",
              "      <td>0.790338</td>\n",
              "      <td>0.502317</td>\n",
              "      <td>0.790338</td>\n",
              "      <td>0.614240</td>\n",
              "      <td>CRIMINAL DAMAGE</td>\n",
              "    </tr>\n",
              "    <tr>\n",
              "      <th>4</th>\n",
              "      <td>4.0</td>\n",
              "      <td>0.019191</td>\n",
              "      <td>0.240557</td>\n",
              "      <td>0.459930</td>\n",
              "      <td>0.240557</td>\n",
              "      <td>0.315892</td>\n",
              "      <td>ASSAULT</td>\n",
              "    </tr>\n",
              "    <tr>\n",
              "      <th>8</th>\n",
              "      <td>8.0</td>\n",
              "      <td>0.031155</td>\n",
              "      <td>0.615461</td>\n",
              "      <td>0.445000</td>\n",
              "      <td>0.615461</td>\n",
              "      <td>0.516530</td>\n",
              "      <td>MOTOR VEHICLE THEFT</td>\n",
              "    </tr>\n",
              "    <tr>\n",
              "      <th>13</th>\n",
              "      <td>13.0</td>\n",
              "      <td>0.002925</td>\n",
              "      <td>0.240039</td>\n",
              "      <td>0.402580</td>\n",
              "      <td>0.240039</td>\n",
              "      <td>0.300754</td>\n",
              "      <td>OFFENSE INVOLVING CHILDREN</td>\n",
              "    </tr>\n",
              "    <tr>\n",
              "      <th>18</th>\n",
              "      <td>18.0</td>\n",
              "      <td>0.000787</td>\n",
              "      <td>0.264348</td>\n",
              "      <td>0.383354</td>\n",
              "      <td>0.264348</td>\n",
              "      <td>0.312918</td>\n",
              "      <td>HOMICIDE</td>\n",
              "    </tr>\n",
              "    <tr>\n",
              "      <th>11</th>\n",
              "      <td>11.0</td>\n",
              "      <td>0.006404</td>\n",
              "      <td>0.263599</td>\n",
              "      <td>0.330899</td>\n",
              "      <td>0.263599</td>\n",
              "      <td>0.293440</td>\n",
              "      <td>WEAPONS VIOLATION</td>\n",
              "    </tr>\n",
              "    <tr>\n",
              "      <th>7</th>\n",
              "      <td>7.0</td>\n",
              "      <td>0.045264</td>\n",
              "      <td>0.400377</td>\n",
              "      <td>0.330557</td>\n",
              "      <td>0.400377</td>\n",
              "      <td>0.362132</td>\n",
              "      <td>DECEPTIVE PRACTICE</td>\n",
              "    </tr>\n",
              "    <tr>\n",
              "      <th>14</th>\n",
              "      <td>14.0</td>\n",
              "      <td>0.006377</td>\n",
              "      <td>0.557280</td>\n",
              "      <td>0.312500</td>\n",
              "      <td>0.557280</td>\n",
              "      <td>0.400446</td>\n",
              "      <td>PROSTITUTION</td>\n",
              "    </tr>\n",
              "    <tr>\n",
              "      <th>10</th>\n",
              "      <td>10.0</td>\n",
              "      <td>0.007384</td>\n",
              "      <td>0.122549</td>\n",
              "      <td>0.308833</td>\n",
              "      <td>0.122549</td>\n",
              "      <td>0.175469</td>\n",
              "      <td>CRIMINAL TRESPASS</td>\n",
              "    </tr>\n",
              "    <tr>\n",
              "      <th>9</th>\n",
              "      <td>9.0</td>\n",
              "      <td>0.025472</td>\n",
              "      <td>0.253317</td>\n",
              "      <td>0.283499</td>\n",
              "      <td>0.253317</td>\n",
              "      <td>0.267559</td>\n",
              "      <td>ROBBERY</td>\n",
              "    </tr>\n",
              "    <tr>\n",
              "      <th>21</th>\n",
              "      <td>21.0</td>\n",
              "      <td>0.000108</td>\n",
              "      <td>0.032468</td>\n",
              "      <td>0.271739</td>\n",
              "      <td>0.032468</td>\n",
              "      <td>0.058005</td>\n",
              "      <td>LIQUOR LAW VIOLATION</td>\n",
              "    </tr>\n",
              "    <tr>\n",
              "      <th>12</th>\n",
              "      <td>12.0</td>\n",
              "      <td>0.005418</td>\n",
              "      <td>0.208076</td>\n",
              "      <td>0.266037</td>\n",
              "      <td>0.208076</td>\n",
              "      <td>0.233513</td>\n",
              "      <td>PUBLIC PEACE VIOLATION</td>\n",
              "    </tr>\n",
              "    <tr>\n",
              "      <th>20</th>\n",
              "      <td>20.0</td>\n",
              "      <td>0.000061</td>\n",
              "      <td>0.010169</td>\n",
              "      <td>0.191489</td>\n",
              "      <td>0.010169</td>\n",
              "      <td>0.019313</td>\n",
              "      <td>GAMBLING</td>\n",
              "    </tr>\n",
              "    <tr>\n",
              "      <th>17</th>\n",
              "      <td>17.0</td>\n",
              "      <td>0.005527</td>\n",
              "      <td>0.281162</td>\n",
              "      <td>0.148920</td>\n",
              "      <td>0.281162</td>\n",
              "      <td>0.194710</td>\n",
              "      <td>SEX OFFENSE</td>\n",
              "    </tr>\n",
              "    <tr>\n",
              "      <th>16</th>\n",
              "      <td>16.0</td>\n",
              "      <td>0.002969</td>\n",
              "      <td>0.112140</td>\n",
              "      <td>0.146172</td>\n",
              "      <td>0.112140</td>\n",
              "      <td>0.126914</td>\n",
              "      <td>INTERFERENCE WITH PUBLIC OFFICER</td>\n",
              "    </tr>\n",
              "    <tr>\n",
              "      <th>15</th>\n",
              "      <td>15.0</td>\n",
              "      <td>0.002189</td>\n",
              "      <td>0.076766</td>\n",
              "      <td>0.142315</td>\n",
              "      <td>0.076766</td>\n",
              "      <td>0.099734</td>\n",
              "      <td>CRIM SEXUAL ASSAULT</td>\n",
              "    </tr>\n",
              "    <tr>\n",
              "      <th>5</th>\n",
              "      <td>5.0</td>\n",
              "      <td>0.000043</td>\n",
              "      <td>0.000000</td>\n",
              "      <td>0.000000</td>\n",
              "      <td>0.000000</td>\n",
              "      <td>0.000000</td>\n",
              "      <td>OTHER OFFENSE</td>\n",
              "    </tr>\n",
              "    <tr>\n",
              "      <th>22</th>\n",
              "      <td>22.0</td>\n",
              "      <td>0.000000</td>\n",
              "      <td>0.000000</td>\n",
              "      <td>0.000000</td>\n",
              "      <td>0.000000</td>\n",
              "      <td>0.000000</td>\n",
              "      <td>KIDNAPPING</td>\n",
              "    </tr>\n",
              "    <tr>\n",
              "      <th>23</th>\n",
              "      <td>23.0</td>\n",
              "      <td>0.000000</td>\n",
              "      <td>0.000000</td>\n",
              "      <td>0.000000</td>\n",
              "      <td>0.000000</td>\n",
              "      <td>0.000000</td>\n",
              "      <td>STALKING</td>\n",
              "    </tr>\n",
              "    <tr>\n",
              "      <th>24</th>\n",
              "      <td>24.0</td>\n",
              "      <td>0.000000</td>\n",
              "      <td>0.000000</td>\n",
              "      <td>0.000000</td>\n",
              "      <td>0.000000</td>\n",
              "      <td>0.000000</td>\n",
              "      <td>INTIMIDATION</td>\n",
              "    </tr>\n",
              "    <tr>\n",
              "      <th>25</th>\n",
              "      <td>25.0</td>\n",
              "      <td>0.000000</td>\n",
              "      <td>0.000000</td>\n",
              "      <td>0.000000</td>\n",
              "      <td>0.000000</td>\n",
              "      <td>0.000000</td>\n",
              "      <td>OBSCENITY</td>\n",
              "    </tr>\n",
              "    <tr>\n",
              "      <th>26</th>\n",
              "      <td>26.0</td>\n",
              "      <td>0.000000</td>\n",
              "      <td>0.000000</td>\n",
              "      <td>0.000000</td>\n",
              "      <td>0.000000</td>\n",
              "      <td>0.000000</td>\n",
              "      <td>CRIMINAL SEXUAL ASSAULT</td>\n",
              "    </tr>\n",
              "    <tr>\n",
              "      <th>27</th>\n",
              "      <td>27.0</td>\n",
              "      <td>0.000000</td>\n",
              "      <td>0.000000</td>\n",
              "      <td>0.000000</td>\n",
              "      <td>0.000000</td>\n",
              "      <td>0.000000</td>\n",
              "      <td>CONCEALED CARRY LICENSE VIOLATION</td>\n",
              "    </tr>\n",
              "    <tr>\n",
              "      <th>28</th>\n",
              "      <td>28.0</td>\n",
              "      <td>0.000000</td>\n",
              "      <td>0.000000</td>\n",
              "      <td>0.000000</td>\n",
              "      <td>0.000000</td>\n",
              "      <td>0.000000</td>\n",
              "      <td>NON-CRIMINAL</td>\n",
              "    </tr>\n",
              "    <tr>\n",
              "      <th>29</th>\n",
              "      <td>29.0</td>\n",
              "      <td>0.000000</td>\n",
              "      <td>0.000000</td>\n",
              "      <td>0.000000</td>\n",
              "      <td>0.000000</td>\n",
              "      <td>0.000000</td>\n",
              "      <td>PUBLIC INDECENCY</td>\n",
              "    </tr>\n",
              "    <tr>\n",
              "      <th>30</th>\n",
              "      <td>30.0</td>\n",
              "      <td>0.000000</td>\n",
              "      <td>0.000000</td>\n",
              "      <td>0.000000</td>\n",
              "      <td>0.000000</td>\n",
              "      <td>0.000000</td>\n",
              "      <td>NON - CRIMINAL</td>\n",
              "    </tr>\n",
              "    <tr>\n",
              "      <th>31</th>\n",
              "      <td>31.0</td>\n",
              "      <td>0.000000</td>\n",
              "      <td>0.000000</td>\n",
              "      <td>0.000000</td>\n",
              "      <td>0.000000</td>\n",
              "      <td>0.000000</td>\n",
              "      <td>HUMAN TRAFFICKING</td>\n",
              "    </tr>\n",
              "    <tr>\n",
              "      <th>32</th>\n",
              "      <td>32.0</td>\n",
              "      <td>0.000000</td>\n",
              "      <td>0.000000</td>\n",
              "      <td>0.000000</td>\n",
              "      <td>0.000000</td>\n",
              "      <td>0.000000</td>\n",
              "      <td>OTHER NARCOTIC VIOLATION</td>\n",
              "    </tr>\n",
              "    <tr>\n",
              "      <th>33</th>\n",
              "      <td>33.0</td>\n",
              "      <td>0.000000</td>\n",
              "      <td>0.000000</td>\n",
              "      <td>0.000000</td>\n",
              "      <td>0.000000</td>\n",
              "      <td>0.000000</td>\n",
              "      <td>NON-CRIMINAL (SUBJECT SPECIFIED)</td>\n",
              "    </tr>\n",
              "  </tbody>\n",
              "</table>\n",
              "</div>"
            ],
            "text/plain": [
              "    index  false_positive_rate  ...  f_measure                       primary_type\n",
              "0     0.0             0.001157  ...   0.998029                              THEFT\n",
              "19   19.0             0.000002  ...   0.004107                              ARSON\n",
              "6     6.0             0.024651  ...   0.677335                           BURGLARY\n",
              "1     1.0             0.073208  ...   0.531090                            BATTERY\n",
              "3     3.0             0.070809  ...   0.731068                          NARCOTICS\n",
              "2     2.0             0.093017  ...   0.614240                    CRIMINAL DAMAGE\n",
              "4     4.0             0.019191  ...   0.315892                            ASSAULT\n",
              "8     8.0             0.031155  ...   0.516530                MOTOR VEHICLE THEFT\n",
              "13   13.0             0.002925  ...   0.300754         OFFENSE INVOLVING CHILDREN\n",
              "18   18.0             0.000787  ...   0.312918                           HOMICIDE\n",
              "11   11.0             0.006404  ...   0.293440                  WEAPONS VIOLATION\n",
              "7     7.0             0.045264  ...   0.362132                 DECEPTIVE PRACTICE\n",
              "14   14.0             0.006377  ...   0.400446                       PROSTITUTION\n",
              "10   10.0             0.007384  ...   0.175469                  CRIMINAL TRESPASS\n",
              "9     9.0             0.025472  ...   0.267559                            ROBBERY\n",
              "21   21.0             0.000108  ...   0.058005               LIQUOR LAW VIOLATION\n",
              "12   12.0             0.005418  ...   0.233513             PUBLIC PEACE VIOLATION\n",
              "20   20.0             0.000061  ...   0.019313                           GAMBLING\n",
              "17   17.0             0.005527  ...   0.194710                        SEX OFFENSE\n",
              "16   16.0             0.002969  ...   0.126914   INTERFERENCE WITH PUBLIC OFFICER\n",
              "15   15.0             0.002189  ...   0.099734                CRIM SEXUAL ASSAULT\n",
              "5     5.0             0.000043  ...   0.000000                      OTHER OFFENSE\n",
              "22   22.0             0.000000  ...   0.000000                         KIDNAPPING\n",
              "23   23.0             0.000000  ...   0.000000                           STALKING\n",
              "24   24.0             0.000000  ...   0.000000                       INTIMIDATION\n",
              "25   25.0             0.000000  ...   0.000000                          OBSCENITY\n",
              "26   26.0             0.000000  ...   0.000000            CRIMINAL SEXUAL ASSAULT\n",
              "27   27.0             0.000000  ...   0.000000  CONCEALED CARRY LICENSE VIOLATION\n",
              "28   28.0             0.000000  ...   0.000000                       NON-CRIMINAL\n",
              "29   29.0             0.000000  ...   0.000000                   PUBLIC INDECENCY\n",
              "30   30.0             0.000000  ...   0.000000                     NON - CRIMINAL\n",
              "31   31.0             0.000000  ...   0.000000                  HUMAN TRAFFICKING\n",
              "32   32.0             0.000000  ...   0.000000           OTHER NARCOTIC VIOLATION\n",
              "33   33.0             0.000000  ...   0.000000   NON-CRIMINAL (SUBJECT SPECIFIED)\n",
              "\n",
              "[34 rows x 7 columns]"
            ]
          },
          "metadata": {
            "tags": []
          },
          "execution_count": 414
        }
      ]
    },
    {
      "cell_type": "markdown",
      "metadata": {
        "id": "yMju9tUwPKyi"
      },
      "source": [
        "**Test Data Performance**"
      ]
    },
    {
      "cell_type": "code",
      "metadata": {
        "id": "R_0yPKaLPGPv"
      },
      "source": [
        "#Fitting the test data set on the logistic regression model\n",
        "fittedModel_test = logistic_regression.fit(test)"
      ],
      "execution_count": null,
      "outputs": []
    },
    {
      "cell_type": "code",
      "metadata": {
        "colab": {
          "base_uri": "https://localhost:8080/"
        },
        "id": "b3iXhP0bPwr6",
        "outputId": "5d09ee0f-64a2-4200-f279-911dfdc4c488"
      },
      "source": [
        "#Accuracy on Test Data\n",
        "fittedModel_test.summary.accuracy"
      ],
      "execution_count": null,
      "outputs": [
        {
          "output_type": "execute_result",
          "data": {
            "text/plain": [
              "0.6122310497210885"
            ]
          },
          "metadata": {
            "tags": []
          },
          "execution_count": 416
        }
      ]
    },
    {
      "cell_type": "code",
      "metadata": {
        "id": "8m3eSTjJRm5G"
      },
      "source": [
        "#Summary of the model\n",
        "Modelsummary = fittedModel.summary"
      ],
      "execution_count": null,
      "outputs": []
    },
    {
      "cell_type": "code",
      "metadata": {
        "colab": {
          "base_uri": "https://localhost:8080/"
        },
        "id": "u_gKLP9DRouS",
        "outputId": "4c0c7820-515e-4e47-97d8-cc35d2a858dc"
      },
      "source": [
        "#Coefficient Matrix\n",
        "fittedModel.coefficientMatrix"
      ],
      "execution_count": null,
      "outputs": [
        {
          "output_type": "execute_result",
          "data": {
            "text/plain": [
              "DenseMatrix(34, 13, [0.0049, -0.1173, 0.5195, 0.0034, 0.058, 0.0098, 0.0087, -5.4679, ..., 0.0001, 0.0001, -0.0, -0.0001, 0.0002, 0.0005, 0.0001, 0.0], 1)"
            ]
          },
          "metadata": {
            "tags": []
          },
          "execution_count": 418
        }
      ]
    },
    {
      "cell_type": "code",
      "metadata": {
        "colab": {
          "base_uri": "https://localhost:8080/"
        },
        "id": "pA3RhVtTRwey",
        "outputId": "9cbf19be-3d3b-4918-e421-b192e7526f7d"
      },
      "source": [
        "print(fittedModel.coefficientMatrix)"
      ],
      "execution_count": null,
      "outputs": [
        {
          "output_type": "stream",
          "text": [
            "DenseMatrix([[ 4.91583184e-03, -1.17299458e-01,  5.19476044e-01,\n",
            "               3.35436907e-03,  5.79897165e-02,  9.78897398e-03,\n",
            "               8.69057355e-03, -5.46789927e+00,  8.39867486e-02,\n",
            "               2.12338441e-01,  9.53875308e-02,  5.50467913e-02,\n",
            "               8.27718660e-04],\n",
            "             [ 1.47013316e-02, -4.17823927e-01,  3.28015482e+00,\n",
            "               2.62295200e-03,  4.32545755e-02,  3.94511615e-03,\n",
            "               4.66124756e-03, -7.26002131e-01,  8.47196238e-02,\n",
            "               2.11999646e-01,  7.77383021e-02,  5.05535993e-02,\n",
            "               7.61684510e-04],\n",
            "             [ 2.07191716e-03, -2.08604770e+00,  9.16867265e-01,\n",
            "               2.91458648e-03,  3.36018385e-02,  1.64210720e-02,\n",
            "               1.03093708e-02, -9.29026238e-01,  8.76031023e-02,\n",
            "               1.81583585e-01,  7.30728587e-02,  4.52481733e-02,\n",
            "               8.38992913e-04],\n",
            "             [-4.67171370e-03,  5.34370611e+00, -6.62984515e+00,\n",
            "               9.88623740e-04,  1.51177052e-02, -7.62147423e-04,\n",
            "               4.28079553e-03, -3.59240480e-01,  3.59074531e-02,\n",
            "               2.13525148e-01,  1.42988500e-01,  5.42613279e-02,\n",
            "               4.72281116e-04],\n",
            "             [ 2.65735786e-02, -5.73071537e-01,  2.83953490e+00,\n",
            "               2.15059462e-03,  3.84091233e-02,  7.64727342e-03,\n",
            "               7.94600093e-03,  1.07601654e-01,  1.99686110e-02,\n",
            "               1.21104790e-01,  4.10574972e-02,  2.96105647e-02,\n",
            "               5.59124503e-04],\n",
            "             [-1.32249464e-03, -4.84829116e-01,  2.79881123e+00,\n",
            "               3.55239961e-03,  4.55605659e-02,  1.03708058e-02,\n",
            "               5.63707744e-03, -4.99935879e-01,  7.28003465e-02,\n",
            "               2.01902685e-01,  6.74659901e-02,  4.77390602e-02,\n",
            "               9.71597705e-04],\n",
            "             [ 6.75533194e-03, -1.61675867e+00, -2.54858274e+00,\n",
            "               2.63889418e-03,  2.35489702e-02,  1.80630107e-02,\n",
            "               7.86698408e-03, -1.93711063e-01,  9.14044620e-02,\n",
            "               1.65946926e-01,  1.05210875e-01,  4.23795225e-02,\n",
            "               5.35443898e-04],\n",
            "             [ 3.60014613e-02, -1.20821970e+00, -2.08768872e+00,\n",
            "               2.28349563e-03,  7.73187542e-02,  2.06288445e-03,\n",
            "               7.05355722e-03,  2.23269228e-01,  3.20870579e-02,\n",
            "               7.73350178e-02,  6.56048484e-02,  1.88220347e-02,\n",
            "               6.63274508e-04],\n",
            "             [-1.19308110e-01, -1.87482529e+00, -2.65773661e+00,\n",
            "               2.89638622e-03,  2.57399246e-02,  1.52090830e-02,\n",
            "               1.09803601e-02,  2.35111967e-01,  4.18959525e-02,\n",
            "               1.08837262e-01,  8.18002962e-02,  2.77544195e-02,\n",
            "               3.80390888e-04],\n",
            "             [ 8.35637469e-03, -1.55411309e+00, -1.52804990e+00,\n",
            "               1.75714604e-03,  2.29739406e-02,  3.62383035e-03,\n",
            "               4.03983590e-03,  3.48329453e-01,  3.94964955e-02,\n",
            "               6.34593022e-02,  6.93242575e-02,  1.57959627e-02,\n",
            "               2.03161125e-04],\n",
            "             [ 4.41776927e-02,  1.97778870e+00,  8.32136110e-01,\n",
            "               3.50679369e-03,  8.17546328e-02, -6.45385157e-03,\n",
            "               1.13830415e-02, -7.89922358e-01,  7.28069239e-02,\n",
            "               2.17546712e-01,  8.83400205e-02,  5.67012361e-02,\n",
            "               7.49859500e-04],\n",
            "             [-3.64277876e-02,  1.02053205e+00, -1.82097915e+00,\n",
            "              -2.13180463e-03, -1.68062950e-02, -1.68854809e-02,\n",
            "               3.09391186e-03,  6.20692951e-01, -8.32155300e-02,\n",
            "              -1.43423894e-01, -8.93324572e-02, -3.81310484e-02,\n",
            "               1.88119139e-04],\n",
            "             [ 5.77281736e-03,  1.45787072e+00, -3.01825706e-01,\n",
            "              -7.08836641e-04, -2.14962946e-02,  1.11822107e-02,\n",
            "               5.21056619e-04,  4.85188298e-01, -9.06741681e-02,\n",
            "              -9.62154115e-02, -1.30595007e-02, -1.56119052e-02,\n",
            "              -3.94184067e-04],\n",
            "             [-9.42717927e-03, -2.62188295e+00,  3.51670154e+00,\n",
            "              -8.22271398e-04, -2.14791722e-02,  1.02346942e-02,\n",
            "               9.33876265e-03,  6.42304200e-01, -1.24635867e-01,\n",
            "              -2.10233854e-01, -1.61483266e-02, -5.13794943e-02,\n",
            "              -4.57746574e-04],\n",
            "             [-7.96820201e-02,  3.01030366e+00, -1.19318372e+00,\n",
            "              -9.67946933e-03, -1.73793647e-01, -4.94658053e-02,\n",
            "              -4.82423332e-02,  8.74089576e-01, -1.16098442e-01,\n",
            "              -3.94901381e-01, -1.42834548e-01, -8.77406407e-02,\n",
            "              -1.47902711e-03],\n",
            "             [-3.62233145e-03, -2.95141136e+00,  1.77715512e+00,\n",
            "              -3.17964343e-03, -3.64905995e-02, -1.40598727e-02,\n",
            "              -1.24355914e-02,  8.12395194e-01, -3.57026426e-02,\n",
            "              -2.45498352e-01, -1.27031362e-01, -7.73514690e-02,\n",
            "              -1.02442559e-03],\n",
            "             [-3.74700955e-02,  3.45477152e+00, -8.86370189e-01,\n",
            "              -4.22000601e-03, -6.94732899e-02, -1.90975630e-02,\n",
            "              -1.61312098e-02,  5.69086741e-01, -9.76984579e-02,\n",
            "              -1.48629167e-01, -1.15794530e-01, -4.41778903e-02,\n",
            "              -6.49729306e-04],\n",
            "             [ 5.89977681e-03, -1.98775932e+00,  9.12521628e-01,\n",
            "              -3.93402630e-03, -4.89881570e-02, -3.94908541e-03,\n",
            "              -1.03968187e-02,  9.11409957e-01, -9.70430142e-02,\n",
            "              -3.03789631e-01, -1.65650067e-01, -9.20201270e-02,\n",
            "              -1.55566693e-03],\n",
            "             [ 6.03283727e-02, -6.20401098e-01,  1.80061495e-01,\n",
            "              -5.65210614e-03, -7.45479457e-02, -2.43911853e-02,\n",
            "              -1.73031398e-02,  7.14856870e-01, -2.74022036e-02,\n",
            "              -1.57359100e-01, -1.28759195e-01, -4.49945312e-02,\n",
            "              -8.48800137e-04],\n",
            "             [ 5.28569698e-03, -1.56334693e+00, -5.60585700e-02,\n",
            "              -2.84046190e-03, -6.34443319e-02, -6.52059347e-03,\n",
            "              -6.29364392e-03,  6.90085657e-01,  2.43238252e-02,\n",
            "              -1.56666199e-01, -1.03851760e-01, -3.85854984e-02,\n",
            "              -6.44919587e-04],\n",
            "             [-7.11473250e-03,  1.84459977e+00, -3.43629136e-01,\n",
            "              -5.50094675e-03, -6.51302181e-02, -3.71536033e-02,\n",
            "              -2.48421914e-02,  7.19015041e-01, -1.04409428e-01,\n",
            "              -1.18573267e-01, -1.63845079e-01, -2.68486157e-02,\n",
            "              -1.51590127e-03],\n",
            "             [ 3.21253608e-02,  1.35077022e+00, -2.99885156e-01,\n",
            "              -1.63824014e-03, -1.60457525e-02,  1.71415288e-03,\n",
            "              -9.86156206e-03,  6.33252759e-01, -6.72606771e-02,\n",
            "              -2.21199257e-01, -9.50565739e-02, -4.33706989e-02,\n",
            "              -1.06916346e-03],\n",
            "             [ 1.90340473e-03, -4.00396549e-01,  1.11182195e+00,\n",
            "               1.85274922e-03,  2.50182655e-02,  1.80998378e-02,\n",
            "               1.24948519e-02,  1.20261238e-01,  2.14589867e-02,\n",
            "               7.48239236e-02,  4.63819903e-02,  2.04868176e-02,\n",
            "               4.20937048e-04],\n",
            "             [ 3.13654168e-03, -7.83865022e-02,  1.26313201e+00,\n",
            "               2.69646854e-03,  3.27886788e-02,  1.31835343e-02,\n",
            "               1.08971239e-02,  5.03767331e-02,  3.99372218e-02,\n",
            "               1.04448059e-01,  5.81604846e-02,  2.86663728e-02,\n",
            "               5.55684810e-04],\n",
            "             [ 1.24724533e-02,  1.00612046e-02,  2.32165673e-01,\n",
            "               2.97409002e-03,  3.44728114e-02,  1.46048456e-02,\n",
            "               1.15041658e-02,  1.21604012e-03,  3.67660965e-02,\n",
            "               9.84718023e-02,  5.71872367e-02,  3.10598051e-02,\n",
            "               5.72755481e-04],\n",
            "             [ 1.45021327e-03,  2.71520885e-01,  9.22816237e-02,\n",
            "               1.11560484e-03,  1.19094452e-02,  6.37293468e-03,\n",
            "               4.24415684e-03,  8.57400194e-02,  1.39785686e-02,\n",
            "               3.40535885e-02,  2.74822059e-02,  8.85877950e-03,\n",
            "               2.31804713e-04],\n",
            "             [ 1.12941729e-02,  8.98553682e-03,  1.06059708e-01,\n",
            "               6.73908817e-04,  1.07858440e-02,  3.31319399e-03,\n",
            "               1.66855279e-03,  5.21366027e-02,  1.60108801e-02,\n",
            "               2.16869071e-02,  1.45383995e-02,  7.12139296e-03,\n",
            "               1.38077707e-04],\n",
            "             [ 4.83492599e-03,  2.31517044e-01, -9.10344983e-03,\n",
            "               5.62871607e-04,  4.79060377e-03,  3.18391736e-03,\n",
            "               2.43570702e-03,  3.41484707e-02,  8.82772992e-03,\n",
            "               2.12427660e-02,  1.21007833e-02,  5.35724041e-03,\n",
            "               1.62199529e-04],\n",
            "             [ 5.11568550e-03, -8.77895717e-03, -8.82426257e-03,\n",
            "               8.41889602e-04,  1.10292285e-02,  5.14928273e-03,\n",
            "               3.13948108e-03,  5.13786335e-03,  5.66610675e-03,\n",
            "               2.71191607e-02,  1.24695087e-02,  4.65717109e-03,\n",
            "               1.63365937e-04],\n",
            "             [ 3.33006360e-03,  1.16177153e-01, -4.58716633e-03,\n",
            "               2.47807048e-04,  4.26351258e-03,  1.26761783e-03,\n",
            "               1.10183120e-03,  2.49447369e-02,  4.56351108e-03,\n",
            "               9.38572787e-03,  8.19023155e-03,  3.41328000e-03,\n",
            "               8.82637509e-05],\n",
            "             [ 1.72614607e-03, -3.72156197e-03, -4.33634188e-03,\n",
            "               2.82456493e-04,  2.54233549e-03,  1.86764620e-03,\n",
            "               1.43525541e-03,  1.53654704e-03,  4.02551558e-03,\n",
            "               1.01875615e-02,  5.57117634e-03,  2.74562238e-03,\n",
            "               6.27132161e-05],\n",
            "             [ 2.28683419e-04,  1.22812942e-05, -3.33500026e-03,\n",
            "               1.13724231e-04,  1.69334576e-03,  3.07114026e-04,\n",
            "               2.42533636e-04,  1.16665125e-03,  3.03895551e-03,\n",
            "               1.15628056e-02,  6.57168166e-03,  6.56928421e-04,\n",
            "               4.88599090e-05],\n",
            "             [ 6.12258731e-04,  7.18690278e-02, -3.54509988e-03,\n",
            "               2.67936359e-04,  3.10516732e-03,  1.01787768e-03,\n",
            "               4.21142778e-04,  2.43095464e-03,  2.91941084e-03,\n",
            "               7.68194640e-03,  4.26192334e-03,  3.18041259e-03,\n",
            "               3.73288341e-05],\n",
            "             [-2.36287845e-05, -1.41215634e-03,  8.68495858e-03,\n",
            "               1.20646282e-05,  2.67172993e-05,  1.08278636e-04,\n",
            "               1.19112056e-04, -4.79778487e-05, -5.31555888e-05,\n",
            "               2.45749611e-04,  4.56801190e-04,  9.54041717e-05,\n",
            "               5.92462803e-06]])\n"
          ],
          "name": "stdout"
        }
      ]
    },
    {
      "cell_type": "code",
      "metadata": {
        "colab": {
          "base_uri": "https://localhost:8080/"
        },
        "id": "4JgxMsnVRyYe",
        "outputId": "a2fe0f05-9197-4e3b-ec06-745839d68731"
      },
      "source": [
        "#secting the vectorized features\n",
        "vectorized_df_dates.select('features').show(2, truncate=False)"
      ],
      "execution_count": null,
      "outputs": [
        {
          "output_type": "stream",
          "text": [
            "+-----------------------------------------------------------+\n",
            "|features                                                   |\n",
            "+-----------------------------------------------------------+\n",
            "|[1.0,0.0,1.0,210.0,8.0,26.0,35.0,17.0,11.0,5.0,7.0,0.0,0.0]|\n",
            "|[2.0,0.0,0.0,127.0,9.0,26.0,35.0,2.0,11.0,5.0,7.0,0.0,0.0] |\n",
            "+-----------------------------------------------------------+\n",
            "only showing top 2 rows\n",
            "\n"
          ],
          "name": "stdout"
        }
      ]
    },
    {
      "cell_type": "code",
      "metadata": {
        "colab": {
          "base_uri": "https://localhost:8080/"
        },
        "id": "uTh6r_0VRyNX",
        "outputId": "063f6ed9-1a64-40ef-baad-cd10b0ff528d"
      },
      "source": [
        "label_stats = {float(i):{'index': float(i)} for i in range(34)}\n",
        "print(label_stats)"
      ],
      "execution_count": null,
      "outputs": [
        {
          "output_type": "stream",
          "text": [
            "{0.0: {'index': 0.0}, 1.0: {'index': 1.0}, 2.0: {'index': 2.0}, 3.0: {'index': 3.0}, 4.0: {'index': 4.0}, 5.0: {'index': 5.0}, 6.0: {'index': 6.0}, 7.0: {'index': 7.0}, 8.0: {'index': 8.0}, 9.0: {'index': 9.0}, 10.0: {'index': 10.0}, 11.0: {'index': 11.0}, 12.0: {'index': 12.0}, 13.0: {'index': 13.0}, 14.0: {'index': 14.0}, 15.0: {'index': 15.0}, 16.0: {'index': 16.0}, 17.0: {'index': 17.0}, 18.0: {'index': 18.0}, 19.0: {'index': 19.0}, 20.0: {'index': 20.0}, 21.0: {'index': 21.0}, 22.0: {'index': 22.0}, 23.0: {'index': 23.0}, 24.0: {'index': 24.0}, 25.0: {'index': 25.0}, 26.0: {'index': 26.0}, 27.0: {'index': 27.0}, 28.0: {'index': 28.0}, 29.0: {'index': 29.0}, 30.0: {'index': 30.0}, 31.0: {'index': 31.0}, 32.0: {'index': 32.0}, 33.0: {'index': 33.0}}\n"
          ],
          "name": "stdout"
        }
      ]
    },
    {
      "cell_type": "code",
      "metadata": {
        "colab": {
          "base_uri": "https://localhost:8080/"
        },
        "id": "NdJH1eJ2Rx-t",
        "outputId": "241b8a8b-428b-463b-90b5-71b24c493cc3"
      },
      "source": [
        "#Calculating False Positive Rate, True Positive Rate, Precision, Recall ,F-measure for test data\n",
        "\n",
        "print(\"False positive rate by label:\")\n",
        "for i, rate in enumerate(Modelsummary.falsePositiveRateByLabel):\n",
        "    label_stats[i]['false_positive_rate'] = rate\n",
        "    \n",
        "for i, rate in enumerate(Modelsummary.truePositiveRateByLabel):\n",
        "    label_stats[i]['true_positive_rate'] = rate\n",
        "    \n",
        "for i, rate in enumerate(Modelsummary.precisionByLabel):\n",
        "    label_stats[i]['precision_rate'] = rate\n",
        "    \n",
        "for i, rate in enumerate(Modelsummary.recallByLabel):\n",
        "    label_stats[i]['recall_rate'] = rate\n",
        "    \n",
        "for i, rate in enumerate(Modelsummary.fMeasureByLabel()):\n",
        "    label_stats[i]['f_measure'] = rate"
      ],
      "execution_count": null,
      "outputs": [
        {
          "output_type": "stream",
          "text": [
            "False positive rate by label:\n"
          ],
          "name": "stdout"
        }
      ]
    },
    {
      "cell_type": "code",
      "metadata": {
        "id": "xY0LBWIYSIDS"
      },
      "source": [
        "#Ordered By Indexed Primary Type\n",
        "test_rdd = test.select(['primary_type','indexed_primary_type']).distinct().orderBy('indexed_primary_type').rdd.map(lambda l: l.asDict()).collect()"
      ],
      "execution_count": null,
      "outputs": []
    },
    {
      "cell_type": "code",
      "metadata": {
        "colab": {
          "base_uri": "https://localhost:8080/"
        },
        "id": "rnA02oAsSOIa",
        "outputId": "8b6aacce-4fdc-4502-c7fb-7b5387341210"
      },
      "source": [
        "for l in test_rdd:\n",
        "    print(l)\n",
        "    label_stats[l['indexed_primary_type']]['primary_type'] = l['primary_type']"
      ],
      "execution_count": null,
      "outputs": [
        {
          "output_type": "stream",
          "text": [
            "{'primary_type': 'THEFT', 'indexed_primary_type': 0.0}\n",
            "{'primary_type': 'BATTERY', 'indexed_primary_type': 1.0}\n",
            "{'primary_type': 'CRIMINAL DAMAGE', 'indexed_primary_type': 2.0}\n",
            "{'primary_type': 'NARCOTICS', 'indexed_primary_type': 3.0}\n",
            "{'primary_type': 'ASSAULT', 'indexed_primary_type': 4.0}\n",
            "{'primary_type': 'OTHER OFFENSE', 'indexed_primary_type': 5.0}\n",
            "{'primary_type': 'BURGLARY', 'indexed_primary_type': 6.0}\n",
            "{'primary_type': 'DECEPTIVE PRACTICE', 'indexed_primary_type': 7.0}\n",
            "{'primary_type': 'MOTOR VEHICLE THEFT', 'indexed_primary_type': 8.0}\n",
            "{'primary_type': 'ROBBERY', 'indexed_primary_type': 9.0}\n",
            "{'primary_type': 'CRIMINAL TRESPASS', 'indexed_primary_type': 10.0}\n",
            "{'primary_type': 'WEAPONS VIOLATION', 'indexed_primary_type': 11.0}\n",
            "{'primary_type': 'PUBLIC PEACE VIOLATION', 'indexed_primary_type': 12.0}\n",
            "{'primary_type': 'OFFENSE INVOLVING CHILDREN', 'indexed_primary_type': 13.0}\n",
            "{'primary_type': 'PROSTITUTION', 'indexed_primary_type': 14.0}\n",
            "{'primary_type': 'CRIM SEXUAL ASSAULT', 'indexed_primary_type': 15.0}\n",
            "{'primary_type': 'INTERFERENCE WITH PUBLIC OFFICER', 'indexed_primary_type': 16.0}\n",
            "{'primary_type': 'SEX OFFENSE', 'indexed_primary_type': 17.0}\n",
            "{'primary_type': 'HOMICIDE', 'indexed_primary_type': 18.0}\n",
            "{'primary_type': 'ARSON', 'indexed_primary_type': 19.0}\n",
            "{'primary_type': 'GAMBLING', 'indexed_primary_type': 20.0}\n",
            "{'primary_type': 'LIQUOR LAW VIOLATION', 'indexed_primary_type': 21.0}\n",
            "{'primary_type': 'KIDNAPPING', 'indexed_primary_type': 22.0}\n",
            "{'primary_type': 'STALKING', 'indexed_primary_type': 23.0}\n",
            "{'primary_type': 'INTIMIDATION', 'indexed_primary_type': 24.0}\n",
            "{'primary_type': 'OBSCENITY', 'indexed_primary_type': 25.0}\n",
            "{'primary_type': 'CRIMINAL SEXUAL ASSAULT', 'indexed_primary_type': 26.0}\n",
            "{'primary_type': 'CONCEALED CARRY LICENSE VIOLATION', 'indexed_primary_type': 27.0}\n",
            "{'primary_type': 'NON-CRIMINAL', 'indexed_primary_type': 28.0}\n",
            "{'primary_type': 'PUBLIC INDECENCY', 'indexed_primary_type': 29.0}\n",
            "{'primary_type': 'NON - CRIMINAL', 'indexed_primary_type': 30.0}\n",
            "{'primary_type': 'HUMAN TRAFFICKING', 'indexed_primary_type': 31.0}\n",
            "{'primary_type': 'OTHER NARCOTIC VIOLATION', 'indexed_primary_type': 32.0}\n",
            "{'primary_type': 'NON-CRIMINAL (SUBJECT SPECIFIED)', 'indexed_primary_type': 33.0}\n"
          ],
          "name": "stdout"
        }
      ]
    },
    {
      "cell_type": "code",
      "metadata": {
        "id": "jveShB9aSOFD"
      },
      "source": [
        "#Computing all the measures\n",
        "rates_pddf = pd.DataFrame(list(label_stats.values()))\n"
      ],
      "execution_count": null,
      "outputs": []
    },
    {
      "cell_type": "code",
      "metadata": {
        "id": "S19P5qG0SZix"
      },
      "source": [
        "#Sorting the measures by highest precison rate to lowest.\n",
        "rates_pddf = rates_pddf.sort_values(by='precision_rate', ascending=False)"
      ],
      "execution_count": null,
      "outputs": []
    },
    {
      "cell_type": "code",
      "metadata": {
        "colab": {
          "base_uri": "https://localhost:8080/",
          "height": 1000
        },
        "id": "tuXiyuJASY8L",
        "outputId": "27d010b1-84eb-4f06-f8a1-232373068e7f"
      },
      "source": [
        "rates_pddf"
      ],
      "execution_count": null,
      "outputs": [
        {
          "output_type": "execute_result",
          "data": {
            "text/html": [
              "<div>\n",
              "<style scoped>\n",
              "    .dataframe tbody tr th:only-of-type {\n",
              "        vertical-align: middle;\n",
              "    }\n",
              "\n",
              "    .dataframe tbody tr th {\n",
              "        vertical-align: top;\n",
              "    }\n",
              "\n",
              "    .dataframe thead th {\n",
              "        text-align: right;\n",
              "    }\n",
              "</style>\n",
              "<table border=\"1\" class=\"dataframe\">\n",
              "  <thead>\n",
              "    <tr style=\"text-align: right;\">\n",
              "      <th></th>\n",
              "      <th>index</th>\n",
              "      <th>false_positive_rate</th>\n",
              "      <th>true_positive_rate</th>\n",
              "      <th>precision_rate</th>\n",
              "      <th>recall_rate</th>\n",
              "      <th>f_measure</th>\n",
              "      <th>primary_type</th>\n",
              "    </tr>\n",
              "  </thead>\n",
              "  <tbody>\n",
              "    <tr>\n",
              "      <th>0</th>\n",
              "      <td>0.0</td>\n",
              "      <td>0.001157</td>\n",
              "      <td>1.000000</td>\n",
              "      <td>0.996065</td>\n",
              "      <td>1.000000</td>\n",
              "      <td>0.998029</td>\n",
              "      <td>THEFT</td>\n",
              "    </tr>\n",
              "    <tr>\n",
              "      <th>19</th>\n",
              "      <td>19.0</td>\n",
              "      <td>0.000002</td>\n",
              "      <td>0.002060</td>\n",
              "      <td>0.666667</td>\n",
              "      <td>0.002060</td>\n",
              "      <td>0.004107</td>\n",
              "      <td>ARSON</td>\n",
              "    </tr>\n",
              "    <tr>\n",
              "      <th>6</th>\n",
              "      <td>6.0</td>\n",
              "      <td>0.024651</td>\n",
              "      <td>0.735225</td>\n",
              "      <td>0.627895</td>\n",
              "      <td>0.735225</td>\n",
              "      <td>0.677335</td>\n",
              "      <td>BURGLARY</td>\n",
              "    </tr>\n",
              "    <tr>\n",
              "      <th>1</th>\n",
              "      <td>1.0</td>\n",
              "      <td>0.073208</td>\n",
              "      <td>0.479350</td>\n",
              "      <td>0.595350</td>\n",
              "      <td>0.479350</td>\n",
              "      <td>0.531090</td>\n",
              "      <td>BATTERY</td>\n",
              "    </tr>\n",
              "    <tr>\n",
              "      <th>3</th>\n",
              "      <td>3.0</td>\n",
              "      <td>0.070809</td>\n",
              "      <td>0.978002</td>\n",
              "      <td>0.583692</td>\n",
              "      <td>0.978002</td>\n",
              "      <td>0.731068</td>\n",
              "      <td>NARCOTICS</td>\n",
              "    </tr>\n",
              "    <tr>\n",
              "      <th>2</th>\n",
              "      <td>2.0</td>\n",
              "      <td>0.093017</td>\n",
              "      <td>0.790338</td>\n",
              "      <td>0.502317</td>\n",
              "      <td>0.790338</td>\n",
              "      <td>0.614240</td>\n",
              "      <td>CRIMINAL DAMAGE</td>\n",
              "    </tr>\n",
              "    <tr>\n",
              "      <th>4</th>\n",
              "      <td>4.0</td>\n",
              "      <td>0.019191</td>\n",
              "      <td>0.240557</td>\n",
              "      <td>0.459930</td>\n",
              "      <td>0.240557</td>\n",
              "      <td>0.315892</td>\n",
              "      <td>ASSAULT</td>\n",
              "    </tr>\n",
              "    <tr>\n",
              "      <th>8</th>\n",
              "      <td>8.0</td>\n",
              "      <td>0.031155</td>\n",
              "      <td>0.615461</td>\n",
              "      <td>0.445000</td>\n",
              "      <td>0.615461</td>\n",
              "      <td>0.516530</td>\n",
              "      <td>MOTOR VEHICLE THEFT</td>\n",
              "    </tr>\n",
              "    <tr>\n",
              "      <th>13</th>\n",
              "      <td>13.0</td>\n",
              "      <td>0.002925</td>\n",
              "      <td>0.240039</td>\n",
              "      <td>0.402580</td>\n",
              "      <td>0.240039</td>\n",
              "      <td>0.300754</td>\n",
              "      <td>OFFENSE INVOLVING CHILDREN</td>\n",
              "    </tr>\n",
              "    <tr>\n",
              "      <th>18</th>\n",
              "      <td>18.0</td>\n",
              "      <td>0.000787</td>\n",
              "      <td>0.264348</td>\n",
              "      <td>0.383354</td>\n",
              "      <td>0.264348</td>\n",
              "      <td>0.312918</td>\n",
              "      <td>HOMICIDE</td>\n",
              "    </tr>\n",
              "    <tr>\n",
              "      <th>11</th>\n",
              "      <td>11.0</td>\n",
              "      <td>0.006404</td>\n",
              "      <td>0.263599</td>\n",
              "      <td>0.330899</td>\n",
              "      <td>0.263599</td>\n",
              "      <td>0.293440</td>\n",
              "      <td>WEAPONS VIOLATION</td>\n",
              "    </tr>\n",
              "    <tr>\n",
              "      <th>7</th>\n",
              "      <td>7.0</td>\n",
              "      <td>0.045264</td>\n",
              "      <td>0.400377</td>\n",
              "      <td>0.330557</td>\n",
              "      <td>0.400377</td>\n",
              "      <td>0.362132</td>\n",
              "      <td>DECEPTIVE PRACTICE</td>\n",
              "    </tr>\n",
              "    <tr>\n",
              "      <th>14</th>\n",
              "      <td>14.0</td>\n",
              "      <td>0.006377</td>\n",
              "      <td>0.557280</td>\n",
              "      <td>0.312500</td>\n",
              "      <td>0.557280</td>\n",
              "      <td>0.400446</td>\n",
              "      <td>PROSTITUTION</td>\n",
              "    </tr>\n",
              "    <tr>\n",
              "      <th>10</th>\n",
              "      <td>10.0</td>\n",
              "      <td>0.007384</td>\n",
              "      <td>0.122549</td>\n",
              "      <td>0.308833</td>\n",
              "      <td>0.122549</td>\n",
              "      <td>0.175469</td>\n",
              "      <td>CRIMINAL TRESPASS</td>\n",
              "    </tr>\n",
              "    <tr>\n",
              "      <th>9</th>\n",
              "      <td>9.0</td>\n",
              "      <td>0.025472</td>\n",
              "      <td>0.253317</td>\n",
              "      <td>0.283499</td>\n",
              "      <td>0.253317</td>\n",
              "      <td>0.267559</td>\n",
              "      <td>ROBBERY</td>\n",
              "    </tr>\n",
              "    <tr>\n",
              "      <th>21</th>\n",
              "      <td>21.0</td>\n",
              "      <td>0.000108</td>\n",
              "      <td>0.032468</td>\n",
              "      <td>0.271739</td>\n",
              "      <td>0.032468</td>\n",
              "      <td>0.058005</td>\n",
              "      <td>LIQUOR LAW VIOLATION</td>\n",
              "    </tr>\n",
              "    <tr>\n",
              "      <th>12</th>\n",
              "      <td>12.0</td>\n",
              "      <td>0.005418</td>\n",
              "      <td>0.208076</td>\n",
              "      <td>0.266037</td>\n",
              "      <td>0.208076</td>\n",
              "      <td>0.233513</td>\n",
              "      <td>PUBLIC PEACE VIOLATION</td>\n",
              "    </tr>\n",
              "    <tr>\n",
              "      <th>20</th>\n",
              "      <td>20.0</td>\n",
              "      <td>0.000061</td>\n",
              "      <td>0.010169</td>\n",
              "      <td>0.191489</td>\n",
              "      <td>0.010169</td>\n",
              "      <td>0.019313</td>\n",
              "      <td>GAMBLING</td>\n",
              "    </tr>\n",
              "    <tr>\n",
              "      <th>17</th>\n",
              "      <td>17.0</td>\n",
              "      <td>0.005527</td>\n",
              "      <td>0.281162</td>\n",
              "      <td>0.148920</td>\n",
              "      <td>0.281162</td>\n",
              "      <td>0.194710</td>\n",
              "      <td>SEX OFFENSE</td>\n",
              "    </tr>\n",
              "    <tr>\n",
              "      <th>16</th>\n",
              "      <td>16.0</td>\n",
              "      <td>0.002969</td>\n",
              "      <td>0.112140</td>\n",
              "      <td>0.146172</td>\n",
              "      <td>0.112140</td>\n",
              "      <td>0.126914</td>\n",
              "      <td>INTERFERENCE WITH PUBLIC OFFICER</td>\n",
              "    </tr>\n",
              "    <tr>\n",
              "      <th>15</th>\n",
              "      <td>15.0</td>\n",
              "      <td>0.002189</td>\n",
              "      <td>0.076766</td>\n",
              "      <td>0.142315</td>\n",
              "      <td>0.076766</td>\n",
              "      <td>0.099734</td>\n",
              "      <td>CRIM SEXUAL ASSAULT</td>\n",
              "    </tr>\n",
              "    <tr>\n",
              "      <th>5</th>\n",
              "      <td>5.0</td>\n",
              "      <td>0.000043</td>\n",
              "      <td>0.000000</td>\n",
              "      <td>0.000000</td>\n",
              "      <td>0.000000</td>\n",
              "      <td>0.000000</td>\n",
              "      <td>OTHER OFFENSE</td>\n",
              "    </tr>\n",
              "    <tr>\n",
              "      <th>22</th>\n",
              "      <td>22.0</td>\n",
              "      <td>0.000000</td>\n",
              "      <td>0.000000</td>\n",
              "      <td>0.000000</td>\n",
              "      <td>0.000000</td>\n",
              "      <td>0.000000</td>\n",
              "      <td>KIDNAPPING</td>\n",
              "    </tr>\n",
              "    <tr>\n",
              "      <th>23</th>\n",
              "      <td>23.0</td>\n",
              "      <td>0.000000</td>\n",
              "      <td>0.000000</td>\n",
              "      <td>0.000000</td>\n",
              "      <td>0.000000</td>\n",
              "      <td>0.000000</td>\n",
              "      <td>STALKING</td>\n",
              "    </tr>\n",
              "    <tr>\n",
              "      <th>24</th>\n",
              "      <td>24.0</td>\n",
              "      <td>0.000000</td>\n",
              "      <td>0.000000</td>\n",
              "      <td>0.000000</td>\n",
              "      <td>0.000000</td>\n",
              "      <td>0.000000</td>\n",
              "      <td>INTIMIDATION</td>\n",
              "    </tr>\n",
              "    <tr>\n",
              "      <th>25</th>\n",
              "      <td>25.0</td>\n",
              "      <td>0.000000</td>\n",
              "      <td>0.000000</td>\n",
              "      <td>0.000000</td>\n",
              "      <td>0.000000</td>\n",
              "      <td>0.000000</td>\n",
              "      <td>OBSCENITY</td>\n",
              "    </tr>\n",
              "    <tr>\n",
              "      <th>26</th>\n",
              "      <td>26.0</td>\n",
              "      <td>0.000000</td>\n",
              "      <td>0.000000</td>\n",
              "      <td>0.000000</td>\n",
              "      <td>0.000000</td>\n",
              "      <td>0.000000</td>\n",
              "      <td>CRIMINAL SEXUAL ASSAULT</td>\n",
              "    </tr>\n",
              "    <tr>\n",
              "      <th>27</th>\n",
              "      <td>27.0</td>\n",
              "      <td>0.000000</td>\n",
              "      <td>0.000000</td>\n",
              "      <td>0.000000</td>\n",
              "      <td>0.000000</td>\n",
              "      <td>0.000000</td>\n",
              "      <td>CONCEALED CARRY LICENSE VIOLATION</td>\n",
              "    </tr>\n",
              "    <tr>\n",
              "      <th>28</th>\n",
              "      <td>28.0</td>\n",
              "      <td>0.000000</td>\n",
              "      <td>0.000000</td>\n",
              "      <td>0.000000</td>\n",
              "      <td>0.000000</td>\n",
              "      <td>0.000000</td>\n",
              "      <td>NON-CRIMINAL</td>\n",
              "    </tr>\n",
              "    <tr>\n",
              "      <th>29</th>\n",
              "      <td>29.0</td>\n",
              "      <td>0.000000</td>\n",
              "      <td>0.000000</td>\n",
              "      <td>0.000000</td>\n",
              "      <td>0.000000</td>\n",
              "      <td>0.000000</td>\n",
              "      <td>PUBLIC INDECENCY</td>\n",
              "    </tr>\n",
              "    <tr>\n",
              "      <th>30</th>\n",
              "      <td>30.0</td>\n",
              "      <td>0.000000</td>\n",
              "      <td>0.000000</td>\n",
              "      <td>0.000000</td>\n",
              "      <td>0.000000</td>\n",
              "      <td>0.000000</td>\n",
              "      <td>NON - CRIMINAL</td>\n",
              "    </tr>\n",
              "    <tr>\n",
              "      <th>31</th>\n",
              "      <td>31.0</td>\n",
              "      <td>0.000000</td>\n",
              "      <td>0.000000</td>\n",
              "      <td>0.000000</td>\n",
              "      <td>0.000000</td>\n",
              "      <td>0.000000</td>\n",
              "      <td>HUMAN TRAFFICKING</td>\n",
              "    </tr>\n",
              "    <tr>\n",
              "      <th>32</th>\n",
              "      <td>32.0</td>\n",
              "      <td>0.000000</td>\n",
              "      <td>0.000000</td>\n",
              "      <td>0.000000</td>\n",
              "      <td>0.000000</td>\n",
              "      <td>0.000000</td>\n",
              "      <td>OTHER NARCOTIC VIOLATION</td>\n",
              "    </tr>\n",
              "    <tr>\n",
              "      <th>33</th>\n",
              "      <td>33.0</td>\n",
              "      <td>0.000000</td>\n",
              "      <td>0.000000</td>\n",
              "      <td>0.000000</td>\n",
              "      <td>0.000000</td>\n",
              "      <td>0.000000</td>\n",
              "      <td>NON-CRIMINAL (SUBJECT SPECIFIED)</td>\n",
              "    </tr>\n",
              "  </tbody>\n",
              "</table>\n",
              "</div>"
            ],
            "text/plain": [
              "    index  false_positive_rate  ...  f_measure                       primary_type\n",
              "0     0.0             0.001157  ...   0.998029                              THEFT\n",
              "19   19.0             0.000002  ...   0.004107                              ARSON\n",
              "6     6.0             0.024651  ...   0.677335                           BURGLARY\n",
              "1     1.0             0.073208  ...   0.531090                            BATTERY\n",
              "3     3.0             0.070809  ...   0.731068                          NARCOTICS\n",
              "2     2.0             0.093017  ...   0.614240                    CRIMINAL DAMAGE\n",
              "4     4.0             0.019191  ...   0.315892                            ASSAULT\n",
              "8     8.0             0.031155  ...   0.516530                MOTOR VEHICLE THEFT\n",
              "13   13.0             0.002925  ...   0.300754         OFFENSE INVOLVING CHILDREN\n",
              "18   18.0             0.000787  ...   0.312918                           HOMICIDE\n",
              "11   11.0             0.006404  ...   0.293440                  WEAPONS VIOLATION\n",
              "7     7.0             0.045264  ...   0.362132                 DECEPTIVE PRACTICE\n",
              "14   14.0             0.006377  ...   0.400446                       PROSTITUTION\n",
              "10   10.0             0.007384  ...   0.175469                  CRIMINAL TRESPASS\n",
              "9     9.0             0.025472  ...   0.267559                            ROBBERY\n",
              "21   21.0             0.000108  ...   0.058005               LIQUOR LAW VIOLATION\n",
              "12   12.0             0.005418  ...   0.233513             PUBLIC PEACE VIOLATION\n",
              "20   20.0             0.000061  ...   0.019313                           GAMBLING\n",
              "17   17.0             0.005527  ...   0.194710                        SEX OFFENSE\n",
              "16   16.0             0.002969  ...   0.126914   INTERFERENCE WITH PUBLIC OFFICER\n",
              "15   15.0             0.002189  ...   0.099734                CRIM SEXUAL ASSAULT\n",
              "5     5.0             0.000043  ...   0.000000                      OTHER OFFENSE\n",
              "22   22.0             0.000000  ...   0.000000                         KIDNAPPING\n",
              "23   23.0             0.000000  ...   0.000000                           STALKING\n",
              "24   24.0             0.000000  ...   0.000000                       INTIMIDATION\n",
              "25   25.0             0.000000  ...   0.000000                          OBSCENITY\n",
              "26   26.0             0.000000  ...   0.000000            CRIMINAL SEXUAL ASSAULT\n",
              "27   27.0             0.000000  ...   0.000000  CONCEALED CARRY LICENSE VIOLATION\n",
              "28   28.0             0.000000  ...   0.000000                       NON-CRIMINAL\n",
              "29   29.0             0.000000  ...   0.000000                   PUBLIC INDECENCY\n",
              "30   30.0             0.000000  ...   0.000000                     NON - CRIMINAL\n",
              "31   31.0             0.000000  ...   0.000000                  HUMAN TRAFFICKING\n",
              "32   32.0             0.000000  ...   0.000000           OTHER NARCOTIC VIOLATION\n",
              "33   33.0             0.000000  ...   0.000000   NON-CRIMINAL (SUBJECT SPECIFIED)\n",
              "\n",
              "[34 rows x 7 columns]"
            ]
          },
          "metadata": {
            "tags": []
          },
          "execution_count": 427
        }
      ]
    }
  ]
}
